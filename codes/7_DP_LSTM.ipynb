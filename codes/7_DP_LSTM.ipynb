{
 "cells": [
  {
   "cell_type": "code",
   "execution_count": 1,
   "metadata": {},
   "outputs": [],
   "source": [
    "import json\n",
    "import time\n",
    "import math\n",
    "import matplotlib.pyplot as plt\n",
    "import numpy as np\n",
    "import pandas as pd\n",
    "import datetime as dt\n",
    "from numpy import newaxis\n",
    "from tensorflow.keras.layers import Dense, Activation, Dropout, LSTM\n",
    "from tensorflow.keras.models import Sequential, load_model\n",
    "from tensorflow.keras.callbacks import EarlyStopping, ModelCheckpoint\n",
    "from sklearn.linear_model import LinearRegression\n",
    "from sklearn.ensemble import RandomForestRegressor\n",
    "from sklearn.linear_model import Ridge"
   ]
  },
  {
   "cell_type": "code",
   "execution_count": 2,
   "metadata": {},
   "outputs": [],
   "source": [
    "from math import pi,sqrt,exp,pow,log\n",
    "from numpy.linalg import det, inv\n",
    "from abc import ABCMeta, abstractmethod\n",
    "from sklearn import cluster"
   ]
  },
  {
   "cell_type": "code",
   "execution_count": 3,
   "metadata": {},
   "outputs": [],
   "source": [
    "import statsmodels.api as sm \n",
    "import scipy.stats as scs\n",
    "import scipy.optimize as sco\n",
    "import scipy.interpolate as sci\n",
    "from scipy import stats"
   ]
  },
  {
   "cell_type": "code",
   "execution_count": 4,
   "metadata": {},
   "outputs": [],
   "source": [
    "df = pd.read_csv(\"new_date_union_1.csv\")"
   ]
  },
  {
   "cell_type": "code",
   "execution_count": 5,
   "metadata": {},
   "outputs": [],
   "source": [
    "wsj_var=np.var(df.mean_compound)"
   ]
  },
  {
   "cell_type": "code",
   "execution_count": 6,
   "metadata": {},
   "outputs": [],
   "source": [
    "mu=0"
   ]
  },
  {
   "cell_type": "code",
   "execution_count": 7,
   "metadata": {},
   "outputs": [
    {
     "name": "stdout",
     "output_type": "stream",
     "text": [
      "0.02763231376845216\n"
     ]
    }
   ],
   "source": [
    "noise=0.1\n",
    "print(wsj_var)"
   ]
  },
  {
   "cell_type": "code",
   "execution_count": 8,
   "metadata": {},
   "outputs": [],
   "source": [
    "sigma_wsj=noise*wsj_var"
   ]
  },
  {
   "cell_type": "code",
   "execution_count": 9,
   "metadata": {},
   "outputs": [],
   "source": [
    "n=df.shape[0]"
   ]
  },
  {
   "cell_type": "code",
   "execution_count": 10,
   "metadata": {},
   "outputs": [],
   "source": [
    "df_noise=pd.DataFrame()"
   ]
  },
  {
   "cell_type": "code",
   "execution_count": 11,
   "metadata": {},
   "outputs": [],
   "source": [
    "df_noise['noise']=df['mean_compound']"
   ]
  },
  {
   "cell_type": "code",
   "execution_count": 12,
   "metadata": {},
   "outputs": [],
   "source": [
    "for i in range(0,n):\n",
    "    df_noise['noise'][i]+=np.random.normal(mu,sigma_wsj)\n",
    "    "
   ]
  },
  {
   "cell_type": "code",
   "execution_count": 13,
   "metadata": {},
   "outputs": [],
   "source": [
    "df_noise.to_csv(\"new_price_noise0.csv\")"
   ]
  },
  {
   "cell_type": "code",
   "execution_count": 14,
   "metadata": {},
   "outputs": [],
   "source": [
    "dfn=pd.read_csv(\"new_price_noise0.csv\",index_col=0)  "
   ]
  },
  {
   "cell_type": "code",
   "execution_count": 16,
   "metadata": {},
   "outputs": [],
   "source": [
    "df_1n=pd.DataFrame()\n",
    "# df_1n['wsj']=dfn['noise']   #with noise\n",
    "df_1n['wsj']=df['mean_compound']  # no noise\n",
    "df_1n['price']=df['c']"
   ]
  },
  {
   "cell_type": "code",
   "execution_count": 17,
   "metadata": {},
   "outputs": [],
   "source": [
    "split = (0.85)\n",
    "sequence_length=10;\n",
    "normalise= True\n",
    "batch_size=100;\n",
    "input_dim=2\n",
    "input_timesteps=9\n",
    "neurons=50\n",
    "epochs=5\n",
    "prediction_len=1\n",
    "dense_output=1\n",
    "drop_out=0"
   ]
  },
  {
   "cell_type": "code",
   "execution_count": 18,
   "metadata": {},
   "outputs": [],
   "source": [
    "df1=df_1n\n",
    "i_split = int(len(df1) * split)"
   ]
  },
  {
   "cell_type": "code",
   "execution_count": 19,
   "metadata": {},
   "outputs": [],
   "source": [
    "cols = ['price','wsj']\n",
    "data_train_1 = df1.get(cols).values[:i_split]\n"
   ]
  },
  {
   "cell_type": "code",
   "execution_count": 20,
   "metadata": {},
   "outputs": [
    {
     "data": {
      "text/plain": [
       "(1159, 2)"
      ]
     },
     "execution_count": 20,
     "metadata": {},
     "output_type": "execute_result"
    }
   ],
   "source": [
    "data_train_1.shape"
   ]
  },
  {
   "cell_type": "code",
   "execution_count": 21,
   "metadata": {},
   "outputs": [],
   "source": [
    "len_train  = len(data_train_1)\n",
    "len_train_windows = None"
   ]
  },
  {
   "cell_type": "code",
   "execution_count": 22,
   "metadata": {},
   "outputs": [],
   "source": [
    "data_windows = []\n",
    "for i in range(len_train - sequence_length):\n",
    "    data_windows.append(data_train_1[i:i+sequence_length])\n",
    "data_windows = np.array(data_windows).astype(float)\n",
    "  \n",
    "window_data=data_windows\n",
    "win_num=window_data.shape[0]\n",
    "col_num=window_data.shape[2]"
   ]
  },
  {
   "cell_type": "code",
   "execution_count": 23,
   "metadata": {},
   "outputs": [],
   "source": [
    "normalised_data = []\n",
    "record_min=[]\n",
    "record_max=[]"
   ]
  },
  {
   "cell_type": "code",
   "execution_count": 24,
   "metadata": {},
   "outputs": [],
   "source": [
    "for win_i in range(0,win_num):\n",
    "    normalised_window = []\n",
    "    for col_i in range(0,1):#col_num):\n",
    "        temp_col=window_data[win_i,:,col_i]\n",
    "        temp_min=min(temp_col)\n",
    "        if col_i==0:\n",
    "            record_min.append(temp_min)#record min\n",
    "        temp_col=temp_col-temp_min\n",
    "        temp_max=max(temp_col)\n",
    "        if col_i==0:\n",
    "            record_max.append(temp_max)#record max\n",
    "        temp_col=temp_col/temp_max\n",
    "        normalised_window.append(temp_col)\n",
    "    for col_i in range(1,col_num):\n",
    "        temp_col=window_data[win_i,:,col_i]\n",
    "        normalised_window.append(temp_col)\n",
    "    normalised_window = np.array(normalised_window).T\n",
    "    normalised_data.append(normalised_window)\n",
    "normalised_data=np.array(normalised_data)"
   ]
  },
  {
   "cell_type": "code",
   "execution_count": 25,
   "metadata": {},
   "outputs": [
    {
     "name": "stdout",
     "output_type": "stream",
     "text": [
      "x_train1.shape (1149, 9, 2)\n",
      "y_train1.shape (1149, 1)\n"
     ]
    }
   ],
   "source": [
    "data_windows=normalised_data\n",
    "x_train1 = data_windows[:, :-1]\n",
    "y_train1 = data_windows[:, -1,[0]]\n",
    "print('x_train1.shape',x_train1.shape)\n",
    "print('y_train1.shape',y_train1.shape)"
   ]
  },
  {
   "cell_type": "code",
   "execution_count": 26,
   "metadata": {},
   "outputs": [
    {
     "data": {
      "text/plain": [
       "array([[0.        ],\n",
       "       [0.0729355 ],\n",
       "       [0.        ],\n",
       "       [0.        ],\n",
       "       [0.03185703],\n",
       "       [0.        ],\n",
       "       [0.        ],\n",
       "       [0.29166667],\n",
       "       [0.23643411],\n",
       "       [0.77529566],\n",
       "       [0.        ],\n",
       "       [0.07216495],\n",
       "       [0.33364574],\n",
       "       [0.42174321],\n",
       "       [0.06654171],\n",
       "       [0.47235239],\n",
       "       [0.62511715],\n",
       "       [0.5267104 ],\n",
       "       [0.23149016],\n",
       "       [0.32983508],\n",
       "       [0.        ],\n",
       "       [0.        ],\n",
       "       [0.06089744],\n",
       "       [0.03910256],\n",
       "       [0.30128205],\n",
       "       [0.53205128],\n",
       "       [0.65979381],\n",
       "       [0.65614035],\n",
       "       [0.83557951],\n",
       "       [0.91145833],\n",
       "       [0.80416667],\n",
       "       [0.9243604 ],\n",
       "       [1.        ],\n",
       "       [1.        ],\n",
       "       [1.        ],\n",
       "       [0.97930556],\n",
       "       [0.90178241],\n",
       "       [1.        ],\n",
       "       [1.        ],\n",
       "       [1.        ],\n",
       "       [1.        ],\n",
       "       [0.98196393],\n",
       "       [1.        ],\n",
       "       [1.        ],\n",
       "       [0.95619019],\n",
       "       [1.        ],\n",
       "       [1.        ],\n",
       "       [1.        ],\n",
       "       [1.        ],\n",
       "       [0.96302124]])"
      ]
     },
     "execution_count": 26,
     "metadata": {},
     "output_type": "execute_result"
    }
   ],
   "source": [
    "y_train1[:50]"
   ]
  },
  {
   "cell_type": "code",
   "execution_count": 27,
   "metadata": {},
   "outputs": [
    {
     "name": "stdout",
     "output_type": "stream",
     "text": [
      "(1149, 9, 2)\n"
     ]
    }
   ],
   "source": [
    "x_train_t=x_train1\n",
    "print(x_train_t.shape)\n",
    "x_train=x_train_t"
   ]
  },
  {
   "cell_type": "code",
   "execution_count": 28,
   "metadata": {},
   "outputs": [
    {
     "name": "stdout",
     "output_type": "stream",
     "text": [
      "(1149, 1)\n"
     ]
    }
   ],
   "source": [
    "y_train_t=y_train1\n",
    "print(y_train_t.shape)\n",
    "y_train=y_train_t"
   ]
  },
  {
   "cell_type": "code",
   "execution_count": 29,
   "metadata": {},
   "outputs": [
    {
     "data": {
      "text/plain": [
       "array([[0.        ],\n",
       "       [0.0729355 ],\n",
       "       [0.        ],\n",
       "       ...,\n",
       "       [0.35896104],\n",
       "       [0.13766234],\n",
       "       [0.06629834]])"
      ]
     },
     "execution_count": 29,
     "metadata": {},
     "output_type": "execute_result"
    }
   ],
   "source": [
    "y_train"
   ]
  },
  {
   "cell_type": "code",
   "execution_count": 30,
   "metadata": {},
   "outputs": [],
   "source": [
    "dataframe= pd.read_csv(\"new_date_union_1.csv\")\n",
    "dataframe.columns=['date','wsj','price']\n",
    "cols = ['price','wsj']\n",
    "len_dataframe=dataframe.shape[0]"
   ]
  },
  {
   "cell_type": "code",
   "execution_count": 31,
   "metadata": {},
   "outputs": [],
   "source": [
    "i_split = int(len(dataframe) * split)\n",
    "data_test  = dataframe.get(cols).values[i_split:]"
   ]
  },
  {
   "cell_type": "code",
   "execution_count": 32,
   "metadata": {},
   "outputs": [],
   "source": [
    "len_test   = len(data_test)\n",
    "len_train_windows = None"
   ]
  },
  {
   "cell_type": "code",
   "execution_count": 33,
   "metadata": {},
   "outputs": [
    {
     "name": "stdout",
     "output_type": "stream",
     "text": [
      "data_test.shape (205, 2)\n"
     ]
    }
   ],
   "source": [
    "print('data_test.shape',data_test.shape)"
   ]
  },
  {
   "cell_type": "code",
   "execution_count": 34,
   "metadata": {},
   "outputs": [],
   "source": [
    "data_windows = []\n",
    "for i in range(len_test - sequence_length):\n",
    "    data_windows.append(data_test[i:i+sequence_length])"
   ]
  },
  {
   "cell_type": "code",
   "execution_count": 35,
   "metadata": {},
   "outputs": [],
   "source": [
    "data_windows = np.array(data_windows).astype(float)"
   ]
  },
  {
   "cell_type": "code",
   "execution_count": 36,
   "metadata": {},
   "outputs": [
    {
     "name": "stdout",
     "output_type": "stream",
     "text": [
      "y_test_ori.shape (195, 1)\n"
     ]
    }
   ],
   "source": [
    "y_test_ori = data_windows[:, -1, [0]]\n",
    "print('y_test_ori.shape',y_test_ori.shape)"
   ]
  },
  {
   "cell_type": "code",
   "execution_count": 37,
   "metadata": {},
   "outputs": [
    {
     "data": {
      "text/plain": [
       "array([[146.82  ],\n",
       "       [149.55  ],\n",
       "       [153.98  ],\n",
       "       [178.3   ],\n",
       "       [184.39  ],\n",
       "       [206.8   ],\n",
       "       [239.4   ],\n",
       "       [215.85  ],\n",
       "       [196.2   ],\n",
       "       [174.85  ],\n",
       "       [189.35  ],\n",
       "       [195.3   ],\n",
       "       [194.2   ],\n",
       "       [189.25  ],\n",
       "       [194.95  ],\n",
       "       [185.66  ],\n",
       "       [187.8   ],\n",
       "       [185.51  ],\n",
       "       [175.3   ],\n",
       "       [174.19  ],\n",
       "       [169.51  ],\n",
       "       [191.68  ],\n",
       "       [180.74  ],\n",
       "       [181.45  ],\n",
       "       [181.1   ],\n",
       "       [187.1   ],\n",
       "       [179.34  ],\n",
       "       [180.77  ],\n",
       "       [173.25  ],\n",
       "       [178.35  ],\n",
       "       [177.3   ],\n",
       "       [182.9   ],\n",
       "       [186.28  ],\n",
       "       [178.5   ],\n",
       "       [176.33  ],\n",
       "       [174.85  ],\n",
       "       [179.2   ],\n",
       "       [179.12  ],\n",
       "       [176.55  ],\n",
       "       [174.15  ],\n",
       "       [170.15  ],\n",
       "       [170.7   ],\n",
       "       [165.5   ],\n",
       "       [163.1   ],\n",
       "       [157.95  ],\n",
       "       [162.29  ],\n",
       "       [164.96  ],\n",
       "       [175.6   ],\n",
       "       [172.    ],\n",
       "       [170.07  ],\n",
       "       [178.4   ],\n",
       "       [180.39  ],\n",
       "       [175.79  ],\n",
       "       [175.2   ],\n",
       "       [178.09  ],\n",
       "       [172.43  ],\n",
       "       [169.95  ],\n",
       "       [169.51  ],\n",
       "       [169.6   ],\n",
       "       [167.79  ],\n",
       "       [178.5   ],\n",
       "       [174.03  ],\n",
       "       [172.15  ],\n",
       "       [175.02  ],\n",
       "       [175.85  ],\n",
       "       [172.11  ],\n",
       "       [172.23  ],\n",
       "       [174.91  ],\n",
       "       [168.08  ],\n",
       "       [170.85  ],\n",
       "       [159.94  ],\n",
       "       [161.48  ],\n",
       "       [158.63  ],\n",
       "       [160.    ],\n",
       "       [165.32  ],\n",
       "       [163.05  ],\n",
       "       [167.51  ],\n",
       "       [168.1   ],\n",
       "       [161.82  ],\n",
       "       [156.8   ],\n",
       "       [156.26  ],\n",
       "       [150.25  ],\n",
       "       [147.    ],\n",
       "       [158.1   ],\n",
       "       [166.5   ],\n",
       "       [164.3   ],\n",
       "       [169.1   ],\n",
       "       [166.51  ],\n",
       "       [166.8   ],\n",
       "       [170.94  ],\n",
       "       [160.    ],\n",
       "       [164.79  ],\n",
       "       [169.    ],\n",
       "       [167.69  ],\n",
       "       [167.35  ],\n",
       "       [162.39  ],\n",
       "       [163.5   ],\n",
       "       [164.44  ],\n",
       "       [166.72  ],\n",
       "       [168.15  ],\n",
       "       [167.32  ],\n",
       "       [163.61  ],\n",
       "       [169.    ],\n",
       "       [167.25  ],\n",
       "       [160.1   ],\n",
       "       [153.91  ],\n",
       "       [149.05  ],\n",
       "       [147.15  ],\n",
       "       [144.38  ],\n",
       "       [149.    ],\n",
       "       [154.7   ],\n",
       "       [151.7899],\n",
       "       [156.49  ],\n",
       "       [157.74  ],\n",
       "       [157.75  ],\n",
       "       [183.37  ],\n",
       "       [191.4999],\n",
       "       [181.    ],\n",
       "       [176.74  ],\n",
       "       [187.65  ],\n",
       "       [187.6   ],\n",
       "       [201.9   ],\n",
       "       [214.75  ],\n",
       "       [201.19  ],\n",
       "       [201.85  ],\n",
       "       [199.13  ],\n",
       "       [199.2   ],\n",
       "       [214.22  ],\n",
       "       [219.39  ],\n",
       "       [217.92  ],\n",
       "       [216.5   ],\n",
       "       [211.3   ],\n",
       "       [213.3   ],\n",
       "       [225.65  ],\n",
       "       [238.4   ],\n",
       "       [232.68  ],\n",
       "       [231.95  ],\n",
       "       [238.2   ],\n",
       "       [237.01  ],\n",
       "       [231.8   ],\n",
       "       [236.5   ],\n",
       "       [230.08  ],\n",
       "       [230.11  ],\n",
       "       [229.05  ],\n",
       "       [229.7   ],\n",
       "       [227.24  ],\n",
       "       [222.    ],\n",
       "       [219.9   ],\n",
       "       [220.67  ],\n",
       "       [218.99  ],\n",
       "       [218.95  ],\n",
       "       [219.87  ],\n",
       "       [216.75  ],\n",
       "       [216.4   ],\n",
       "       [216.1   ],\n",
       "       [216.71  ],\n",
       "       [213.9   ],\n",
       "       [214.02  ],\n",
       "       [202.84  ],\n",
       "       [211.    ],\n",
       "       [211.39  ],\n",
       "       [211.55  ],\n",
       "       [209.9   ],\n",
       "       [209.56  ],\n",
       "       [206.61  ],\n",
       "       [208.14  ],\n",
       "       [207.55  ],\n",
       "       [210.65  ],\n",
       "       [204.51  ],\n",
       "       [204.31  ],\n",
       "       [210.8   ],\n",
       "       [212.53  ],\n",
       "       [207.14  ],\n",
       "       [206.    ],\n",
       "       [206.5   ],\n",
       "       [203.4   ],\n",
       "       [202.5   ],\n",
       "       [192.18  ],\n",
       "       [196.25  ],\n",
       "       [194.15  ],\n",
       "       [194.1   ],\n",
       "       [196.7   ],\n",
       "       [201.89  ],\n",
       "       [207.5   ],\n",
       "       [210.66  ],\n",
       "       [207.55  ],\n",
       "       [207.8   ],\n",
       "       [211.81  ],\n",
       "       [214.89  ],\n",
       "       [211.6   ],\n",
       "       [210.68  ],\n",
       "       [210.9999],\n",
       "       [211.09  ],\n",
       "       [216.5001],\n",
       "       [215.75  ]])"
      ]
     },
     "execution_count": 37,
     "metadata": {},
     "output_type": "execute_result"
    }
   ],
   "source": [
    "y_test_ori"
   ]
  },
  {
   "cell_type": "code",
   "execution_count": 38,
   "metadata": {},
   "outputs": [],
   "source": [
    "window_data=data_windows\n",
    "win_num=window_data.shape[0]\n",
    "col_num=window_data.shape[2]\n",
    "normalised_data = []\n",
    "record_min=[]\n",
    "record_max=[]"
   ]
  },
  {
   "cell_type": "code",
   "execution_count": 39,
   "metadata": {},
   "outputs": [],
   "source": [
    "for win_i in range(0,win_num):\n",
    "    normalised_window = []\n",
    "    for col_i in range(0,1):#col_num):\n",
    "        temp_col=window_data[win_i,:,col_i]\n",
    "        temp_min=min(temp_col)\n",
    "        if col_i==0:\n",
    "            record_min.append(temp_min)#record min\n",
    "        temp_col=temp_col-temp_min\n",
    "        temp_max=max(temp_col)\n",
    "        if col_i==0:\n",
    "            record_max.append(temp_max)#record max\n",
    "        temp_col=temp_col/temp_max\n",
    "        normalised_window.append(temp_col)\n",
    "    for col_i in range(1,col_num):\n",
    "        temp_col=window_data[win_i,:,col_i]\n",
    "        normalised_window.append(temp_col)\n",
    "    normalised_window = np.array(normalised_window).T\n",
    "    normalised_data.append(normalised_window)\n",
    "normalised_data=np.array(normalised_data)"
   ]
  },
  {
   "cell_type": "code",
   "execution_count": 40,
   "metadata": {},
   "outputs": [
    {
     "name": "stdout",
     "output_type": "stream",
     "text": [
      "x_test.shape (195, 9, 2)\n",
      "y_test.shape (195, 1)\n"
     ]
    }
   ],
   "source": [
    "data_windows=normalised_data#get_test_data\n",
    "x_test = data_windows[:, :-1]\n",
    "y_test = data_windows[:, -1, [0]]\n",
    "print('x_test.shape',x_test.shape)\n",
    "print('y_test.shape',y_test.shape)"
   ]
  },
  {
   "cell_type": "code",
   "execution_count": 41,
   "metadata": {},
   "outputs": [
    {
     "data": {
      "text/plain": [
       "array([[0.73089358],\n",
       "       [0.71709234],\n",
       "       [0.89115914],\n",
       "       [1.        ],\n",
       "       [1.        ],\n",
       "       [1.        ],\n",
       "       [1.        ],\n",
       "       [0.74562541],\n",
       "       [0.53337654],\n",
       "       [0.30276518],\n",
       "       [0.44296049],\n",
       "       [0.48372746],\n",
       "       [0.29976762],\n",
       "       [0.22308288],\n",
       "       [0.31138652],\n",
       "       [0.16746708],\n",
       "       [0.31585366],\n",
       "       [0.49929742],\n",
       "       [0.02200489],\n",
       "       [0.        ],\n",
       "       [0.        ],\n",
       "       [0.87146226],\n",
       "       [0.44143082],\n",
       "       [0.46933962],\n",
       "       [0.52277853],\n",
       "       [0.79341452],\n",
       "       [0.44339197],\n",
       "       [0.50789355],\n",
       "       [0.16869644],\n",
       "       [0.39873703],\n",
       "       [0.21975041],\n",
       "       [0.6967509 ],\n",
       "       [0.94079422],\n",
       "       [0.37906137],\n",
       "       [0.22238267],\n",
       "       [0.12279355],\n",
       "       [0.45663853],\n",
       "       [0.45049885],\n",
       "       [0.14873141],\n",
       "       [0.        ],\n",
       "       [0.        ],\n",
       "       [0.03409795],\n",
       "       [0.        ],\n",
       "       [0.        ],\n",
       "       [0.        ],\n",
       "       [0.20423529],\n",
       "       [0.33112896],\n",
       "       [0.94892473],\n",
       "       [0.79603399],\n",
       "       [0.68668555],\n",
       "       [1.        ],\n",
       "       [1.        ],\n",
       "       [0.79500891],\n",
       "       [0.76871658],\n",
       "       [0.87292818],\n",
       "       [0.48412184],\n",
       "       [0.        ],\n",
       "       [0.        ],\n",
       "       [0.00827206],\n",
       "       [0.        ],\n",
       "       [0.85      ],\n",
       "       [0.58263305],\n",
       "       [0.40709617],\n",
       "       [0.67507003],\n",
       "       [0.75256769],\n",
       "       [0.40336134],\n",
       "       [0.41456583],\n",
       "       [0.66479925],\n",
       "       [0.0270775 ],\n",
       "       [0.26583493],\n",
       "       [0.        ],\n",
       "       [0.09679447],\n",
       "       [0.        ],\n",
       "       [0.07955865],\n",
       "       [0.41093366],\n",
       "       [0.27149877],\n",
       "       [0.54545455],\n",
       "       [0.77495908],\n",
       "       [0.26104746],\n",
       "       [0.        ],\n",
       "       [0.        ],\n",
       "       [0.        ],\n",
       "       [0.        ],\n",
       "       [0.52606635],\n",
       "       [0.92417062],\n",
       "       [0.81990521],\n",
       "       [1.        ],\n",
       "       [0.88280543],\n",
       "       [0.8959276 ],\n",
       "       [1.        ],\n",
       "       [0.54302423],\n",
       "       [0.74310777],\n",
       "       [0.84890966],\n",
       "       [0.70292505],\n",
       "       [0.67184644],\n",
       "       [0.21846435],\n",
       "       [0.31992687],\n",
       "       [0.40585009],\n",
       "       [0.6142596 ],\n",
       "       [0.90555556],\n",
       "       [0.74583964],\n",
       "       [0.18456884],\n",
       "       [1.        ],\n",
       "       [0.73524962],\n",
       "       [0.        ],\n",
       "       [0.        ],\n",
       "       [0.        ],\n",
       "       [0.        ],\n",
       "       [0.        ],\n",
       "       [0.18765232],\n",
       "       [0.41917141],\n",
       "       [0.30097076],\n",
       "       [0.52951465],\n",
       "       [0.84987277],\n",
       "       [1.        ],\n",
       "       [1.        ],\n",
       "       [1.        ],\n",
       "       [0.77716634],\n",
       "       [0.65270742],\n",
       "       [0.90304961],\n",
       "       [0.90179048],\n",
       "       [1.        ],\n",
       "       [1.        ],\n",
       "       [0.76210526],\n",
       "       [0.66061563],\n",
       "       [0.58905551],\n",
       "       [0.59089713],\n",
       "       [0.9860563 ],\n",
       "       [1.        ],\n",
       "       [0.95375904],\n",
       "       [0.85735439],\n",
       "       [0.60069102],\n",
       "       [0.6994077 ],\n",
       "       [1.        ],\n",
       "       [1.        ],\n",
       "       [0.85408163],\n",
       "       [0.76199262],\n",
       "       [0.99261993],\n",
       "       [0.94870849],\n",
       "       [0.75645756],\n",
       "       [0.9298893 ],\n",
       "       [0.6685259 ],\n",
       "       [0.34980392],\n",
       "       [0.        ],\n",
       "       [0.07103825],\n",
       "       [0.        ],\n",
       "       [0.        ],\n",
       "       [0.        ],\n",
       "       [0.04638554],\n",
       "       [0.        ],\n",
       "       [0.        ],\n",
       "       [0.08243728],\n",
       "       [0.        ],\n",
       "       [0.        ],\n",
       "       [0.        ],\n",
       "       [0.10338983],\n",
       "       [0.        ],\n",
       "       [0.01772526],\n",
       "       [0.        ],\n",
       "       [0.47915443],\n",
       "       [0.5020552 ],\n",
       "       [0.62616822],\n",
       "       [0.50901226],\n",
       "       [0.48449892],\n",
       "       [0.27180966],\n",
       "       [0.47406082],\n",
       "       [0.42128801],\n",
       "       [0.89667049],\n",
       "       [0.        ],\n",
       "       [0.        ],\n",
       "       [0.89640884],\n",
       "       [1.        ],\n",
       "       [0.34428224],\n",
       "       [0.20559611],\n",
       "       [0.26642336],\n",
       "       [0.        ],\n",
       "       [0.        ],\n",
       "       [0.        ],\n",
       "       [0.2       ],\n",
       "       [0.0968059 ],\n",
       "       [0.09434889],\n",
       "       [0.30213904],\n",
       "       [0.67807263],\n",
       "       [1.        ],\n",
       "       [1.        ],\n",
       "       [0.83170996],\n",
       "       [0.8452381 ],\n",
       "       [1.        ],\n",
       "       [1.        ],\n",
       "       [0.84175084],\n",
       "       [0.76855415],\n",
       "       [0.70076154],\n",
       "       [0.48579161],\n",
       "       [1.        ],\n",
       "       [0.91619088]])"
      ]
     },
     "execution_count": 41,
     "metadata": {},
     "output_type": "execute_result"
    }
   ],
   "source": [
    "y_test"
   ]
  },
  {
   "cell_type": "markdown",
   "metadata": {},
   "source": [
    "LSTM MODEL"
   ]
  },
  {
   "cell_type": "code",
   "execution_count": 42,
   "metadata": {},
   "outputs": [
    {
     "name": "stdout",
     "output_type": "stream",
     "text": [
      "Train on 1149 samples\n",
      "Epoch 1/20\n",
      "1149/1149 [==============================] - 7s 6ms/sample - loss: 0.3347\n",
      "Epoch 2/20\n",
      "1149/1149 [==============================] - 0s 40us/sample - loss: 0.1958\n",
      "Epoch 3/20\n",
      "1149/1149 [==============================] - 0s 40us/sample - loss: 0.1668\n",
      "Epoch 4/20\n",
      "1149/1149 [==============================] - 0s 39us/sample - loss: 0.1493\n",
      "Epoch 5/20\n",
      "1149/1149 [==============================] - 0s 39us/sample - loss: 0.1294\n",
      "Epoch 6/20\n",
      "1149/1149 [==============================] - 0s 40us/sample - loss: 0.0900\n",
      "Epoch 7/20\n",
      "1149/1149 [==============================] - 0s 39us/sample - loss: 0.0800\n",
      "Epoch 8/20\n",
      "1149/1149 [==============================] - 0s 40us/sample - loss: 0.0780\n",
      "Epoch 9/20\n",
      "1149/1149 [==============================] - 0s 40us/sample - loss: 0.0773\n",
      "Epoch 10/20\n",
      "1149/1149 [==============================] - 0s 41us/sample - loss: 0.0773\n",
      "Epoch 11/20\n",
      "1149/1149 [==============================] - 0s 41us/sample - loss: 0.0774\n",
      "Epoch 12/20\n",
      "1149/1149 [==============================] - 0s 40us/sample - loss: 0.0795\n",
      "Epoch 13/20\n",
      "1149/1149 [==============================] - 0s 44us/sample - loss: 0.0765\n",
      "Epoch 14/20\n",
      "1149/1149 [==============================] - 0s 43us/sample - loss: 0.0776\n",
      "Epoch 15/20\n",
      "1149/1149 [==============================] - 0s 39us/sample - loss: 0.0772\n",
      "Epoch 16/20\n",
      "1149/1149 [==============================] - 0s 39us/sample - loss: 0.0769\n",
      "Epoch 17/20\n",
      "1149/1149 [==============================] - 0s 40us/sample - loss: 0.0767\n",
      "Epoch 18/20\n",
      "1149/1149 [==============================] - 0s 41us/sample - loss: 0.0766\n",
      "Epoch 19/20\n",
      "1149/1149 [==============================] - 0s 40us/sample - loss: 0.0773\n",
      "Epoch 20/20\n",
      "1149/1149 [==============================] - 0s 39us/sample - loss: 0.0777\n"
     ]
    },
    {
     "data": {
      "text/plain": [
       "<tensorflow.python.keras.callbacks.History at 0x2145056b588>"
      ]
     },
     "execution_count": 42,
     "metadata": {},
     "output_type": "execute_result"
    }
   ],
   "source": [
    "model = Sequential()\n",
    "model.add(LSTM(neurons, input_shape=(input_timesteps, input_dim), return_sequences = True))\n",
    "model.add(Dropout(drop_out))\n",
    "model.add(LSTM(neurons,return_sequences = True))\n",
    "model.add(LSTM(neurons,return_sequences =False))\n",
    "model.add(Dropout(drop_out))\n",
    "model.add(Dense(dense_output, activation='linear'))\n",
    "# Compile model\n",
    "model.compile(loss='mean_squared_error',\n",
    "                optimizer='adam')\n",
    "# Fit the model\n",
    "model.fit(x_train,y_train,epochs=20,batch_size=batch_size)"
   ]
  },
  {
   "cell_type": "markdown",
   "metadata": {},
   "source": [
    "ulti sequence predict"
   ]
  },
  {
   "cell_type": "code",
   "execution_count": 43,
   "metadata": {},
   "outputs": [],
   "source": [
    "data=x_test\n",
    "prediction_seqs = []\n",
    "window_size=sequence_length\n",
    "pre_win_num=int(len(data)/prediction_len)"
   ]
  },
  {
   "cell_type": "code",
   "execution_count": 44,
   "metadata": {},
   "outputs": [],
   "source": [
    "for i in range(0,pre_win_num):\n",
    "    curr_frame = data[i*prediction_len]\n",
    "    predicted = []\n",
    "    for j in range(0,prediction_len):\n",
    "        temp=model.predict(curr_frame[newaxis,:,:])[0]\n",
    "        predicted.append(temp)\n",
    "        curr_frame = curr_frame[1:]\n",
    "        curr_frame = np.insert(curr_frame, [window_size-2], predicted[-1], axis=0)\n",
    "    prediction_seqs.append(predicted)"
   ]
  },
  {
   "cell_type": "markdown",
   "metadata": {},
   "source": [
    "e_predicted"
   ]
  },
  {
   "cell_type": "code",
   "execution_count": 45,
   "metadata": {},
   "outputs": [],
   "source": [
    "de_predicted=[]\n",
    "len_pre_win=int(len(data)/prediction_len)\n",
    "len_pre=prediction_len"
   ]
  },
  {
   "cell_type": "code",
   "execution_count": 46,
   "metadata": {},
   "outputs": [
    {
     "name": "stdout",
     "output_type": "stream",
     "text": [
      "[148.21374681689738, 154.39112012684345, 151.9748013883829, 174.80820093333722, 181.7469447493553, 204.06171693086625, 242.98825799226762, 240.71659790039064, 239.39096670985222, 229.2898611009121, 214.953343847394, 213.05001308679581, 221.14295799434186, 212.85405519902707, 207.27504017055034, 208.89299777448178, 195.74879482984542, 181.35077496618032, 181.93645785599946, 176.66291054323315, 171.31249653227627, 173.20097205400467, 176.15453933238982, 178.29545145988465, 179.75162319898604, 181.4682359457016, 183.58431716382503, 184.26221330583095, 183.2664710879326, 181.93745768368245, 181.6176846009493, 179.66481358110906, 179.046701413393, 179.1371929138899, 180.2262724906206, 181.7022611987591, 181.62494350850582, 182.16681972503662, 182.05275916159152, 181.4934972524643, 177.0144154369831, 178.03109902381897, 167.35285500735046, 165.3657696902752, 160.24415856301783, 160.31581290140747, 162.14830761492252, 161.86849349141121, 163.35554299801586, 166.52753286957739, 170.64862097203732, 173.95559441328047, 173.63629164934156, 171.7582923388481, 174.20267821788786, 173.78921155035496, 176.0377876138687, 176.09091255187988, 175.11057666778564, 171.47990458846093, 172.65746896505354, 172.9603243008256, 173.45881485521792, 174.44536762118338, 176.1155015784502, 176.33731069386005, 175.64603655695916, 174.63202129662037, 173.49307466804981, 171.95794961571696, 162.20989259064197, 162.54753595918416, 161.2736352354288, 162.1537868887186, 163.035151463747, 164.51342911243438, 166.55748648643493, 165.13227901935576, 166.57429329156875, 164.05695152282715, 162.58534381866454, 155.42982946038245, 150.64650518298149, 150.8211561501026, 152.19880856275557, 153.34050232470037, 158.80058152675628, 162.6694991648197, 162.44011368155478, 163.70568256258963, 162.3280522584915, 158.6297786951065, 164.8993089365959, 164.40816561162472, 164.34176222503186, 164.02452358961105, 164.55441034257413, 164.32024114787578, 164.52725501298903, 164.01228642463684, 165.24563472419976, 165.07384726345538, 166.0320721709728, 166.35920957326888, 164.2600160896778, 156.46973590284585, 148.82553239166737, 146.42595082819463, 144.49519991505892, 145.5205586911738, 147.09899833649396, 150.648738180995, 153.94450699806214, 151.1053195786476, 151.81111401438713, 178.74817230880262, 187.70388019067644, 188.5156565555036, 189.51936480175257, 188.12867399265767, 184.2426021676302, 194.78618486166002, 204.06446480870247, 196.80596715211868, 208.0945815849304, 206.0974997740984, 205.46285626411438, 200.5872082066536, 211.0959826606512, 206.1880503362417, 213.59106537818909, 212.26667716026304, 214.8206722640991, 219.01942620038986, 230.14295272111895, 225.5727017402649, 233.42096205949784, 231.6481002032757, 231.86798583865166, 231.89224097132683, 228.24732901453973, 224.65051835477354, 231.51575170606375, 232.25879208147526, 233.00515969991685, 230.6798912191391, 224.48498591780663, 222.5584086945653, 224.14684363007547, 223.95547754108907, 219.66327625989913, 220.68822129130362, 219.30231935828925, 221.52071232795714, 220.97317597568036, 217.39464737176894, 214.61837185658516, 215.10078529536725, 203.00326483574696, 204.82172285959126, 205.74492714881896, 204.18123367123306, 205.14684801220895, 206.3455392894149, 207.0595225942135, 205.80295439720155, 206.85889170229436, 205.44539887458086, 205.1972064781189, 205.34832894444466, 205.98891073584556, 207.90539405703544, 208.56062795042993, 209.22037232518196, 209.05389852285384, 208.15673025250436, 206.9097953081131, 196.23467832237483, 195.27724055528643, 194.51469501398503, 195.80896282225848, 193.16465372920038, 194.2286076593399, 197.68220482230186, 203.2755533838272, 206.76393259048461, 208.79812294006348, 210.89995501816273, 211.9016615438461, 208.16656809568403, 207.2428216576576, 209.3597641134262, 213.47683629512787, 214.36091120389702, 214.2470633645952]\n"
     ]
    }
   ],
   "source": [
    "m=0\n",
    "for i in range(0,len_pre_win):\n",
    "    for j in range(0,len_pre):\n",
    "        de_predicted.append(prediction_seqs[i][j][0]*record_max[m]+record_min[m])\n",
    "        m=m+1\n",
    "print(de_predicted)"
   ]
  },
  {
   "cell_type": "code",
   "execution_count": 98,
   "metadata": {},
   "outputs": [],
   "source": [
    "np.save('single_senti.npy',de_predicted)"
   ]
  },
  {
   "cell_type": "markdown",
   "metadata": {},
   "source": [
    "In[18]:"
   ]
  },
  {
   "cell_type": "code",
   "execution_count": 47,
   "metadata": {},
   "outputs": [],
   "source": [
    "error = []\n",
    "diff=y_test.shape[0]-prediction_len*pre_win_num"
   ]
  },
  {
   "cell_type": "code",
   "execution_count": 48,
   "metadata": {},
   "outputs": [],
   "source": [
    "for i in range(y_test_ori.shape[0]-diff):\n",
    "    error.append(y_test_ori[i,] - de_predicted[i])\n",
    "    \n",
    "squaredError = []\n",
    "absError = []\n",
    "for val in error:\n",
    "    squaredError.append(val * val) \n",
    "    absError.append(abs(val))"
   ]
  },
  {
   "cell_type": "code",
   "execution_count": 49,
   "metadata": {},
   "outputs": [],
   "source": [
    "error_percent=[]\n",
    "for i in range(len(error)):\n",
    "    val=absError[i]/y_test_ori[i,]\n",
    "    val=abs(val)\n",
    "    error_percent.append(val)"
   ]
  },
  {
   "cell_type": "code",
   "execution_count": 50,
   "metadata": {},
   "outputs": [],
   "source": [
    "mean_error_percent=sum(error_percent) / len(error_percent)\n",
    "accuracy=1-mean_error_percent"
   ]
  },
  {
   "cell_type": "code",
   "execution_count": 51,
   "metadata": {},
   "outputs": [],
   "source": [
    "MSE=sum(squaredError) / len(squaredError)"
   ]
  },
  {
   "cell_type": "code",
   "execution_count": 52,
   "metadata": {},
   "outputs": [
    {
     "name": "stdout",
     "output_type": "stream",
     "text": [
      "MSE [67.99860002]\n",
      "accuracy [0.97219993]\n",
      "mean_error_percent [0.02780007]\n"
     ]
    }
   ],
   "source": [
    "print(\"MSE\",MSE)\n",
    "print('accuracy',accuracy)\n",
    "print('mean_error_percent',mean_error_percent)"
   ]
  },
  {
   "cell_type": "markdown",
   "metadata": {},
   "source": [
    "## Plot the figure"
   ]
  },
  {
   "cell_type": "code",
   "execution_count": 53,
   "metadata": {},
   "outputs": [
    {
     "data": {
      "text/plain": [
       "195"
      ]
     },
     "execution_count": 53,
     "metadata": {},
     "output_type": "execute_result"
    }
   ],
   "source": [
    "len(de_predicted)"
   ]
  },
  {
   "cell_type": "code",
   "execution_count": 54,
   "metadata": {},
   "outputs": [
    {
     "data": {
      "text/plain": [
       "<matplotlib.legend.Legend at 0x214a2608648>"
      ]
     },
     "execution_count": 54,
     "metadata": {},
     "output_type": "execute_result"
    },
    {
     "data": {
      "image/png": "[encoded data removed]",
      "text/plain": [
       "<Figure size 432x288 with 1 Axes>"
      ]
     },
     "metadata": {
      "needs_background": "light"
     },
     "output_type": "display_data"
    }
   ],
   "source": [
    "import matplotlib.pyplot as plt\n",
    "plt.plot(de_predicted, label = 'predicted')\n",
    "plt.plot(y_test_ori, label = 'real')\n",
    "plt.legend()"
   ]
  },
  {
   "cell_type": "markdown",
   "metadata": {},
   "source": [
    "# Train only the stock data"
   ]
  },
  {
   "cell_type": "code",
   "execution_count": 101,
   "metadata": {},
   "outputs": [
    {
     "data": {
      "text/plain": [
       "(1149, 9, 1)"
      ]
     },
     "execution_count": 101,
     "metadata": {},
     "output_type": "execute_result"
    }
   ],
   "source": [
    "x_train_2 = x_train[:,:,1]\n",
    "x_train_2 = np.expand_dims(x_train_2, axis = 2)\n",
    "x_train_2.shape"
   ]
  },
  {
   "cell_type": "code",
   "execution_count": 102,
   "metadata": {},
   "outputs": [
    {
     "name": "stdout",
     "output_type": "stream",
     "text": [
      "Train on 1149 samples\n",
      "Epoch 1/50\n",
      "1149/1149 [==============================] - 3s 2ms/sample - loss: 0.3489\n",
      "Epoch 2/50\n",
      "1149/1149 [==============================] - 0s 40us/sample - loss: 0.1538\n",
      "Epoch 3/50\n",
      "1149/1149 [==============================] - 0s 39us/sample - loss: 0.1497\n",
      "Epoch 4/50\n",
      "1149/1149 [==============================] - 0s 39us/sample - loss: 0.1404\n",
      "Epoch 5/50\n",
      "1149/1149 [==============================] - 0s 40us/sample - loss: 0.1393\n",
      "Epoch 6/50\n",
      "1149/1149 [==============================] - 0s 39us/sample - loss: 0.1363\n",
      "Epoch 7/50\n",
      "1149/1149 [==============================] - 0s 38us/sample - loss: 0.1367\n",
      "Epoch 8/50\n",
      "1149/1149 [==============================] - 0s 39us/sample - loss: 0.1363\n",
      "Epoch 9/50\n",
      "1149/1149 [==============================] - 0s 39us/sample - loss: 0.1374\n",
      "Epoch 10/50\n",
      "1149/1149 [==============================] - 0s 38us/sample - loss: 0.1378\n",
      "Epoch 11/50\n",
      "1149/1149 [==============================] - 0s 38us/sample - loss: 0.1381\n",
      "Epoch 12/50\n",
      "1149/1149 [==============================] - 0s 41us/sample - loss: 0.1379\n",
      "Epoch 13/50\n",
      "1149/1149 [==============================] - 0s 39us/sample - loss: 0.1358\n",
      "Epoch 14/50\n",
      "1149/1149 [==============================] - 0s 39us/sample - loss: 0.1355\n",
      "Epoch 15/50\n",
      "1149/1149 [==============================] - 0s 38us/sample - loss: 0.1353\n",
      "Epoch 16/50\n",
      "1149/1149 [==============================] - 0s 39us/sample - loss: 0.1355\n",
      "Epoch 17/50\n",
      "1149/1149 [==============================] - 0s 39us/sample - loss: 0.1356\n",
      "Epoch 18/50\n",
      "1149/1149 [==============================] - 0s 39us/sample - loss: 0.1355\n",
      "Epoch 19/50\n",
      "1149/1149 [==============================] - 0s 38us/sample - loss: 0.1357\n",
      "Epoch 20/50\n",
      "1149/1149 [==============================] - 0s 39us/sample - loss: 0.1366\n",
      "Epoch 21/50\n",
      "1149/1149 [==============================] - 0s 38us/sample - loss: 0.1343\n",
      "Epoch 22/50\n",
      "1149/1149 [==============================] - 0s 39us/sample - loss: 0.1351\n",
      "Epoch 23/50\n",
      "1149/1149 [==============================] - 0s 40us/sample - loss: 0.1342\n",
      "Epoch 24/50\n",
      "1149/1149 [==============================] - 0s 40us/sample - loss: 0.1347\n",
      "Epoch 25/50\n",
      "1149/1149 [==============================] - 0s 39us/sample - loss: 0.1340\n",
      "Epoch 26/50\n",
      "1149/1149 [==============================] - 0s 38us/sample - loss: 0.1344\n",
      "Epoch 27/50\n",
      "1149/1149 [==============================] - 0s 40us/sample - loss: 0.1339\n",
      "Epoch 28/50\n",
      "1149/1149 [==============================] - 0s 40us/sample - loss: 0.1367\n",
      "Epoch 29/50\n",
      "1149/1149 [==============================] - 0s 39us/sample - loss: 0.1357\n",
      "Epoch 30/50\n",
      "1149/1149 [==============================] - 0s 39us/sample - loss: 0.1343\n",
      "Epoch 31/50\n",
      "1149/1149 [==============================] - 0s 40us/sample - loss: 0.1339\n",
      "Epoch 32/50\n",
      "1149/1149 [==============================] - 0s 39us/sample - loss: 0.1339\n",
      "Epoch 33/50\n",
      "1149/1149 [==============================] - 0s 39us/sample - loss: 0.1349\n",
      "Epoch 34/50\n",
      "1149/1149 [==============================] - 0s 40us/sample - loss: 0.1334\n",
      "Epoch 35/50\n",
      "1149/1149 [==============================] - 0s 39us/sample - loss: 0.1337\n",
      "Epoch 36/50\n",
      "1149/1149 [==============================] - 0s 38us/sample - loss: 0.1346\n",
      "Epoch 37/50\n",
      "1149/1149 [==============================] - 0s 38us/sample - loss: 0.1341\n",
      "Epoch 38/50\n",
      "1149/1149 [==============================] - 0s 40us/sample - loss: 0.1356\n",
      "Epoch 39/50\n",
      "1149/1149 [==============================] - 0s 40us/sample - loss: 0.1330\n",
      "Epoch 40/50\n",
      "1149/1149 [==============================] - 0s 39us/sample - loss: 0.1334\n",
      "Epoch 41/50\n",
      "1149/1149 [==============================] - 0s 39us/sample - loss: 0.1336\n",
      "Epoch 42/50\n",
      "1149/1149 [==============================] - 0s 40us/sample - loss: 0.1335\n",
      "Epoch 43/50\n",
      "1149/1149 [==============================] - 0s 40us/sample - loss: 0.1331\n",
      "Epoch 44/50\n",
      "1149/1149 [==============================] - 0s 39us/sample - loss: 0.1332\n",
      "Epoch 45/50\n",
      "1149/1149 [==============================] - 0s 39us/sample - loss: 0.1330\n",
      "Epoch 46/50\n",
      "1149/1149 [==============================] - 0s 40us/sample - loss: 0.1333\n",
      "Epoch 47/50\n",
      "1149/1149 [==============================] - 0s 40us/sample - loss: 0.1354\n",
      "Epoch 48/50\n",
      "1149/1149 [==============================] - 0s 39us/sample - loss: 0.1360\n",
      "Epoch 49/50\n",
      "1149/1149 [==============================] - 0s 39us/sample - loss: 0.1346\n",
      "Epoch 50/50\n",
      "1149/1149 [==============================] - 0s 41us/sample - loss: 0.1340\n"
     ]
    },
    {
     "data": {
      "text/plain": [
       "<tensorflow.python.keras.callbacks.History at 0x1d940af1d48>"
      ]
     },
     "execution_count": 102,
     "metadata": {},
     "output_type": "execute_result"
    }
   ],
   "source": [
    "model = Sequential()\n",
    "model.add(LSTM(neurons, input_shape=(input_timesteps, 1), return_sequences = True))\n",
    "model.add(Dropout(drop_out))\n",
    "model.add(LSTM(neurons,return_sequences = True))\n",
    "model.add(LSTM(neurons,return_sequences =False))\n",
    "model.add(Dropout(drop_out))\n",
    "model.add(Dense(dense_output, activation='linear'))\n",
    "# Compile model\n",
    "model.compile(loss='mean_squared_error',\n",
    "                optimizer='adam')\n",
    "# Fit the model\n",
    "model.fit(x_train_2,y_train,epochs=50,batch_size=batch_size)"
   ]
  },
  {
   "cell_type": "code",
   "execution_count": 103,
   "metadata": {},
   "outputs": [
    {
     "data": {
      "text/plain": [
       "(195, 9, 1)"
      ]
     },
     "execution_count": 103,
     "metadata": {},
     "output_type": "execute_result"
    }
   ],
   "source": [
    "x_test_2 = x_test[:,:,1]\n",
    "x_test_2 = np.expand_dims(x_test_2, axis = 2)\n",
    "x_test_2.shape"
   ]
  },
  {
   "cell_type": "code",
   "execution_count": 104,
   "metadata": {},
   "outputs": [],
   "source": [
    "data=x_test_2\n",
    "prediction_seqs = []\n",
    "window_size=sequence_length\n",
    "pre_win_num=int(len(data)/prediction_len)"
   ]
  },
  {
   "cell_type": "code",
   "execution_count": null,
   "metadata": {},
   "outputs": [],
   "source": [
    "for i in range(0,pre_win_num):\n",
    "    curr_frame = data[i*prediction_len]\n",
    "    predicted = []\n",
    "    for j in range(0,prediction_len):\n",
    "        temp=model.predict(curr_frame[newaxis,:,:])[0]\n",
    "        predicted.append(temp)\n",
    "        curr_frame = curr_frame[1:]\n",
    "        curr_frame = np.insert(curr_frame, [window_size-2], predicted[-1], axis=0)\n",
    "    prediction_seqs.append(predicted)"
   ]
  },
  {
   "cell_type": "code",
   "execution_count": null,
   "metadata": {},
   "outputs": [],
   "source": [
    "de_predicted=[]\n",
    "len_pre_win=int(len(data)/prediction_len)\n",
    "len_pre=prediction_len"
   ]
  },
  {
   "cell_type": "code",
   "execution_count": null,
   "metadata": {},
   "outputs": [],
   "source": [
    "m=0\n",
    "for i in range(0,len_pre_win):\n",
    "    for j in range(0,len_pre):\n",
    "        de_predicted.append(prediction_seqs[i][j][0]*record_max[m]+record_min[m])\n",
    "        m=m+1\n",
    "print(de_predicted)"
   ]
  },
  {
   "cell_type": "code",
   "execution_count": 58,
   "metadata": {},
   "outputs": [
    {
     "name": "stdout",
     "output_type": "stream",
     "text": [
      "MSE [89.94727498]\n",
      "accuracy [0.9628232]\n",
      "mean_error_percent [0.0371768]\n"
     ]
    }
   ],
   "source": [
    "error = []\n",
    "diff=y_test.shape[0]-prediction_len*pre_win_num\n",
    "\n",
    "for i in range(y_test_ori.shape[0]-diff):\n",
    "    error.append(y_test_ori[i,] - de_predicted[i])\n",
    "    \n",
    "squaredError = []\n",
    "absError = []\n",
    "for val in error:\n",
    "    squaredError.append(val * val) \n",
    "    absError.append(abs(val))\n",
    "    \n",
    "error_percent=[]\n",
    "for i in range(len(error)):\n",
    "    val=absError[i]/y_test_ori[i,]\n",
    "    val=abs(val)\n",
    "    error_percent.append(val)\n",
    "    \n",
    "mean_error_percent=sum(error_percent) / len(error_percent)\n",
    "accuracy=1-mean_error_percent\n",
    "\n",
    "MSE=sum(squaredError) / len(squaredError)\n",
    "\n",
    "print(\"MSE\",MSE)\n",
    "print('accuracy',accuracy)\n",
    "print('mean_error_percent',mean_error_percent)"
   ]
  },
  {
   "cell_type": "code",
   "execution_count": 59,
   "metadata": {},
   "outputs": [
    {
     "data": {
      "text/plain": [
       "<matplotlib.legend.Legend at 0x1d935986ec8>"
      ]
     },
     "execution_count": 59,
     "metadata": {},
     "output_type": "execute_result"
    },
    {
     "data": {
      "image/png": "[encoded data removed]",
      "text/plain": [
       "<Figure size 432x288 with 1 Axes>"
      ]
     },
     "metadata": {
      "needs_background": "light"
     },
     "output_type": "display_data"
    }
   ],
   "source": [
    "import matplotlib.pyplot as plt\n",
    "plt.plot(de_predicted, label = 'predicted')\n",
    "plt.plot(y_test_ori, label = 'real')\n",
    "plt.legend()"
   ]
  },
  {
   "cell_type": "code",
   "execution_count": null,
   "metadata": {},
   "outputs": [],
   "source": []
  }
 ],
 "metadata": {
  "kernelspec": {
   "display_name": "Python 3",
   "language": "python",
   "name": "python3"
  },
  "language_info": {
   "codemirror_mode": {
    "name": "ipython",
    "version": 3
   },
   "file_extension": ".py",
   "mimetype": "text/x-python",
   "name": "python",
   "nbconvert_exporter": "python",
   "pygments_lexer": "ipython3",
   "version": "3.7.9"
  }
 },
 "nbformat": 4,
 "nbformat_minor": 2
}
