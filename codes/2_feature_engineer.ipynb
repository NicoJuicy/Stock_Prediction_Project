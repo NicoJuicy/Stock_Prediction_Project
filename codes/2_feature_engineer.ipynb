{
 "cells": [
  {
   "cell_type": "code",
   "execution_count": 2,
   "metadata": {},
   "outputs": [],
   "source": [
    "import pandas as pd\n",
    "df = pd.read_csv('new_data_articles.csv',index_col=0)"
   ]
  },
  {
   "cell_type": "code",
   "execution_count": 3,
   "metadata": {},
   "outputs": [
    {
     "data": {
      "text/html": [
       "<div>\n",
       "<style scoped>\n",
       "    .dataframe tbody tr th:only-of-type {\n",
       "        vertical-align: middle;\n",
       "    }\n",
       "\n",
       "    .dataframe tbody tr th {\n",
       "        vertical-align: top;\n",
       "    }\n",
       "\n",
       "    .dataframe thead th {\n",
       "        text-align: right;\n",
       "    }\n",
       "</style>\n",
       "<table border=\"1\" class=\"dataframe\">\n",
       "  <thead>\n",
       "    <tr style=\"text-align: right;\">\n",
       "      <th></th>\n",
       "      <th>published_date</th>\n",
       "      <th>company</th>\n",
       "      <th>title</th>\n",
       "      <th>body</th>\n",
       "      <th>url</th>\n",
       "    </tr>\n",
       "  </thead>\n",
       "  <tbody>\n",
       "    <tr>\n",
       "      <th>0</th>\n",
       "      <td>2016-01-28 21:06:10+00:00</td>\n",
       "      <td>FB</td>\n",
       "      <td>US STOCKS SNAPSHOT-Wall St ends up sharply on ...</td>\n",
       "      <td>NEW YORK, Aug 16 (Reuters) - U.S. stocks rebou...</td>\n",
       "      <td>https://www.reuters.com/article/usa-stocks/us-...</td>\n",
       "    </tr>\n",
       "    <tr>\n",
       "      <th>1</th>\n",
       "      <td>2016-02-18 21:05:42+00:00</td>\n",
       "      <td>WMT</td>\n",
       "      <td>US STOCKS SNAPSHOT-S&amp;P, Dow eke out gains afte...</td>\n",
       "      <td>NEW YORK, Sept 6 (Reuters) - The S&amp;P 500 and t...</td>\n",
       "      <td>https://www.reuters.com/article/usa-stocks/us-...</td>\n",
       "    </tr>\n",
       "    <tr>\n",
       "      <th>2</th>\n",
       "      <td>2016-03-02 22:09:26+00:00</td>\n",
       "      <td>AAPL</td>\n",
       "      <td>US STOCKS SNAPSHOT-Wall Street ends mixed as M...</td>\n",
       "      <td>Sept 19 (Reuters) - Wall Street ended mixed on...</td>\n",
       "      <td>https://www.reuters.com/article/usa-stocks/us-...</td>\n",
       "    </tr>\n",
       "    <tr>\n",
       "      <th>3</th>\n",
       "      <td>2016-03-02 22:09:26+00:00</td>\n",
       "      <td>MSFT</td>\n",
       "      <td>US STOCKS SNAPSHOT-Wall Street ends mixed as M...</td>\n",
       "      <td>Sept 19 (Reuters) - Wall Street ended mixed on...</td>\n",
       "      <td>https://www.reuters.com/article/usa-stocks/us-...</td>\n",
       "    </tr>\n",
       "    <tr>\n",
       "      <th>4</th>\n",
       "      <td>2016-03-31 20:05:35+00:00</td>\n",
       "      <td>BA</td>\n",
       "      <td>US STOCKS SNAPSHOT-Boeing, J&amp;J pull down Wall ...</td>\n",
       "      <td>NEW YORK, Oct 18 (Reuters) - Wall Street fell ...</td>\n",
       "      <td>https://www.reuters.com/article/usa-stocks/us-...</td>\n",
       "    </tr>\n",
       "  </tbody>\n",
       "</table>\n",
       "</div>"
      ],
      "text/plain": [
       "              published_date company  \\\n",
       "0  2016-01-28 21:06:10+00:00      FB   \n",
       "1  2016-02-18 21:05:42+00:00     WMT   \n",
       "2  2016-03-02 22:09:26+00:00    AAPL   \n",
       "3  2016-03-02 22:09:26+00:00    MSFT   \n",
       "4  2016-03-31 20:05:35+00:00      BA   \n",
       "\n",
       "                                               title  \\\n",
       "0  US STOCKS SNAPSHOT-Wall St ends up sharply on ...   \n",
       "1  US STOCKS SNAPSHOT-S&P, Dow eke out gains afte...   \n",
       "2  US STOCKS SNAPSHOT-Wall Street ends mixed as M...   \n",
       "3  US STOCKS SNAPSHOT-Wall Street ends mixed as M...   \n",
       "4  US STOCKS SNAPSHOT-Boeing, J&J pull down Wall ...   \n",
       "\n",
       "                                                body  \\\n",
       "0  NEW YORK, Aug 16 (Reuters) - U.S. stocks rebou...   \n",
       "1  NEW YORK, Sept 6 (Reuters) - The S&P 500 and t...   \n",
       "2  Sept 19 (Reuters) - Wall Street ended mixed on...   \n",
       "3  Sept 19 (Reuters) - Wall Street ended mixed on...   \n",
       "4  NEW YORK, Oct 18 (Reuters) - Wall Street fell ...   \n",
       "\n",
       "                                                 url  \n",
       "0  https://www.reuters.com/article/usa-stocks/us-...  \n",
       "1  https://www.reuters.com/article/usa-stocks/us-...  \n",
       "2  https://www.reuters.com/article/usa-stocks/us-...  \n",
       "3  https://www.reuters.com/article/usa-stocks/us-...  \n",
       "4  https://www.reuters.com/article/usa-stocks/us-...  "
      ]
     },
     "execution_count": 3,
     "metadata": {},
     "output_type": "execute_result"
    }
   ],
   "source": [
    "df.head()"
   ]
  },
  {
   "cell_type": "markdown",
   "metadata": {},
   "source": [
    "## Find the missing data, we can fill it with anything"
   ]
  },
  {
   "cell_type": "code",
   "execution_count": 4,
   "metadata": {},
   "outputs": [
    {
     "data": {
      "text/html": [
       "<div>\n",
       "<style scoped>\n",
       "    .dataframe tbody tr th:only-of-type {\n",
       "        vertical-align: middle;\n",
       "    }\n",
       "\n",
       "    .dataframe tbody tr th {\n",
       "        vertical-align: top;\n",
       "    }\n",
       "\n",
       "    .dataframe thead th {\n",
       "        text-align: right;\n",
       "    }\n",
       "</style>\n",
       "<table border=\"1\" class=\"dataframe\">\n",
       "  <thead>\n",
       "    <tr style=\"text-align: right;\">\n",
       "      <th></th>\n",
       "      <th>published_date</th>\n",
       "      <th>company</th>\n",
       "      <th>title</th>\n",
       "      <th>body</th>\n",
       "      <th>url</th>\n",
       "    </tr>\n",
       "  </thead>\n",
       "  <tbody>\n",
       "    <tr>\n",
       "      <th>340</th>\n",
       "      <td>2018-02-16 01:05:14+00:00</td>\n",
       "      <td>AMZN</td>\n",
       "      <td>BRIEF-Amazon, YouTube, Twitter Are Exploring B...</td>\n",
       "      <td>NaN</td>\n",
       "      <td>https://www.reuters.com/article/brief-amazon-y...</td>\n",
       "    </tr>\n",
       "    <tr>\n",
       "      <th>358</th>\n",
       "      <td>2018-02-16 14:21:00+00:00</td>\n",
       "      <td>BA</td>\n",
       "      <td>BRIEF-Boeing 737 MAX 9 Awarded FAA Certification</td>\n",
       "      <td>NaN</td>\n",
       "      <td>https://www.reuters.com/article/brief-boeing-7...</td>\n",
       "    </tr>\n",
       "    <tr>\n",
       "      <th>600</th>\n",
       "      <td>2018-02-26 18:27:32+00:00</td>\n",
       "      <td>AVGO</td>\n",
       "      <td>BRIEF-Qualcomm Open To Broadcom Bid at $160 bl...</td>\n",
       "      <td>NaN</td>\n",
       "      <td>https://www.reuters.com/article/brief-qualcomm...</td>\n",
       "    </tr>\n",
       "    <tr>\n",
       "      <th>601</th>\n",
       "      <td>2018-02-26 18:27:32+00:00</td>\n",
       "      <td>QCOM</td>\n",
       "      <td>BRIEF-Qualcomm Open To Broadcom Bid at $160 bl...</td>\n",
       "      <td>NaN</td>\n",
       "      <td>https://www.reuters.com/article/brief-qualcomm...</td>\n",
       "    </tr>\n",
       "    <tr>\n",
       "      <th>733</th>\n",
       "      <td>2018-02-28 17:05:49+00:00</td>\n",
       "      <td>AIG</td>\n",
       "      <td>BRIEF-AIG Files For Potential Mixed Shelf, Siz...</td>\n",
       "      <td>NaN</td>\n",
       "      <td>https://www.reuters.com/article/brief-aig-file...</td>\n",
       "    </tr>\n",
       "    <tr>\n",
       "      <th>...</th>\n",
       "      <td>...</td>\n",
       "      <td>...</td>\n",
       "      <td>...</td>\n",
       "      <td>...</td>\n",
       "      <td>...</td>\n",
       "    </tr>\n",
       "    <tr>\n",
       "      <th>26283</th>\n",
       "      <td>2020-11-17 16:24:02+00:00</td>\n",
       "      <td>AMZN</td>\n",
       "      <td>Fact Check: Un video muestra a agentes de poli...</td>\n",
       "      <td>NaN</td>\n",
       "      <td>https://www.reuters.com/article/uk-factcheck-e...</td>\n",
       "    </tr>\n",
       "    <tr>\n",
       "      <th>26344</th>\n",
       "      <td>2020-11-18 14:49:10+00:00</td>\n",
       "      <td>PFE</td>\n",
       "      <td>TREASURIES-Yields dip as investors balance vac...</td>\n",
       "      <td>NaN</td>\n",
       "      <td>https://www.reuters.com/article/usa-bonds/trea...</td>\n",
       "    </tr>\n",
       "    <tr>\n",
       "      <th>27205</th>\n",
       "      <td>2020-12-14 15:56:20+00:00</td>\n",
       "      <td>PFE</td>\n",
       "      <td>TREASURIES-Yield curve steepens as vaccine lau...</td>\n",
       "      <td>NaN</td>\n",
       "      <td>https://www.reuters.com/article/usa-bonds/trea...</td>\n",
       "    </tr>\n",
       "    <tr>\n",
       "      <th>27571</th>\n",
       "      <td>2020-12-22 18:40:34+00:00</td>\n",
       "      <td>WMT</td>\n",
       "      <td>BRIEF-U.S. Sues Walmart, Alleging Role In Fuel...</td>\n",
       "      <td>NaN</td>\n",
       "      <td>https://www.reuters.com/article/brief-us-sues-...</td>\n",
       "    </tr>\n",
       "    <tr>\n",
       "      <th>28516</th>\n",
       "      <td>2021-01-25 15:28:18+00:00</td>\n",
       "      <td>MRK</td>\n",
       "      <td>TREASURIES-U.S. 10-year yield skids to three-w...</td>\n",
       "      <td>NaN</td>\n",
       "      <td>https://www.reuters.com/article/usa-bonds/trea...</td>\n",
       "    </tr>\n",
       "  </tbody>\n",
       "</table>\n",
       "<p>63 rows × 5 columns</p>\n",
       "</div>"
      ],
      "text/plain": [
       "                  published_date company  \\\n",
       "340    2018-02-16 01:05:14+00:00    AMZN   \n",
       "358    2018-02-16 14:21:00+00:00      BA   \n",
       "600    2018-02-26 18:27:32+00:00    AVGO   \n",
       "601    2018-02-26 18:27:32+00:00    QCOM   \n",
       "733    2018-02-28 17:05:49+00:00     AIG   \n",
       "...                          ...     ...   \n",
       "26283  2020-11-17 16:24:02+00:00    AMZN   \n",
       "26344  2020-11-18 14:49:10+00:00     PFE   \n",
       "27205  2020-12-14 15:56:20+00:00     PFE   \n",
       "27571  2020-12-22 18:40:34+00:00     WMT   \n",
       "28516  2021-01-25 15:28:18+00:00     MRK   \n",
       "\n",
       "                                                   title body  \\\n",
       "340    BRIEF-Amazon, YouTube, Twitter Are Exploring B...  NaN   \n",
       "358     BRIEF-Boeing 737 MAX 9 Awarded FAA Certification  NaN   \n",
       "600    BRIEF-Qualcomm Open To Broadcom Bid at $160 bl...  NaN   \n",
       "601    BRIEF-Qualcomm Open To Broadcom Bid at $160 bl...  NaN   \n",
       "733    BRIEF-AIG Files For Potential Mixed Shelf, Siz...  NaN   \n",
       "...                                                  ...  ...   \n",
       "26283  Fact Check: Un video muestra a agentes de poli...  NaN   \n",
       "26344  TREASURIES-Yields dip as investors balance vac...  NaN   \n",
       "27205  TREASURIES-Yield curve steepens as vaccine lau...  NaN   \n",
       "27571  BRIEF-U.S. Sues Walmart, Alleging Role In Fuel...  NaN   \n",
       "28516  TREASURIES-U.S. 10-year yield skids to three-w...  NaN   \n",
       "\n",
       "                                                     url  \n",
       "340    https://www.reuters.com/article/brief-amazon-y...  \n",
       "358    https://www.reuters.com/article/brief-boeing-7...  \n",
       "600    https://www.reuters.com/article/brief-qualcomm...  \n",
       "601    https://www.reuters.com/article/brief-qualcomm...  \n",
       "733    https://www.reuters.com/article/brief-aig-file...  \n",
       "...                                                  ...  \n",
       "26283  https://www.reuters.com/article/uk-factcheck-e...  \n",
       "26344  https://www.reuters.com/article/usa-bonds/trea...  \n",
       "27205  https://www.reuters.com/article/usa-bonds/trea...  \n",
       "27571  https://www.reuters.com/article/brief-us-sues-...  \n",
       "28516  https://www.reuters.com/article/usa-bonds/trea...  \n",
       "\n",
       "[63 rows x 5 columns]"
      ]
     },
     "execution_count": 4,
     "metadata": {},
     "output_type": "execute_result"
    }
   ],
   "source": [
    "df[df.isnull().any(axis=1)]"
   ]
  },
  {
   "cell_type": "code",
   "execution_count": 5,
   "metadata": {},
   "outputs": [],
   "source": [
    "df_missing_percentage=df.isnull().sum()/df.shape[0] *100"
   ]
  },
  {
   "cell_type": "code",
   "execution_count": 6,
   "metadata": {},
   "outputs": [
    {
     "data": {
      "text/plain": [
       "published_date    0.000000\n",
       "company           0.000000\n",
       "title             0.000000\n",
       "body              0.212622\n",
       "url               0.000000\n",
       "dtype: float64"
      ]
     },
     "execution_count": 6,
     "metadata": {},
     "output_type": "execute_result"
    }
   ],
   "source": [
    "df_missing_percentage"
   ]
  },
  {
   "cell_type": "code",
   "execution_count": 7,
   "metadata": {},
   "outputs": [],
   "source": [
    "df=df.fillna('missing')"
   ]
  },
  {
   "cell_type": "code",
   "execution_count": 8,
   "metadata": {},
   "outputs": [
    {
     "data": {
      "text/plain": [
       "(29630, 5)"
      ]
     },
     "execution_count": 8,
     "metadata": {},
     "output_type": "execute_result"
    }
   ],
   "source": [
    "df.shape"
   ]
  },
  {
   "cell_type": "markdown",
   "metadata": {},
   "source": [
    "# Feature Engineer"
   ]
  },
  {
   "cell_type": "markdown",
   "metadata": {},
   "source": [
    "## TF-IDF: term frequencyâ€“inverse document frequency<br>\n",
    "## Bag of Words"
   ]
  },
  {
   "cell_type": "code",
   "execution_count": 10,
   "metadata": {},
   "outputs": [],
   "source": [
    "def create_tfidf(df, feature_column, max_feature_size):\n",
    "    from sklearn.feature_extraction import text\n",
    "    from sklearn.feature_extraction.text import TfidfVectorizer\n",
    "    my_stop_words = text.ENGLISH_STOP_WORDS.union([\"ap1\", \"00\", \"000\", \"0\", \"561\", \"190\", \"09\", \"24\", \"2017\",\"2018\", \"000 00\", \"2018\",\n",
    "                               \"jan\",\"feb\",\"mar\",\"apr\",\"may\",\"jun\",\"jul\",\"aug\",\"sep\",\"oct\",\"nov\",\"dec\",\n",
    "                               \"ag\", \"ap3\", \"000 00 ap3\", \"ap2\", \"00 ap2\", \"000 00 ap2\", \"10\", \"00 ap1\",\n",
    "                               \"000 00 ap1\", \"oct 2018\", \"000 000\", \"000 000 00\", \"october 2018\", \"10 2018\",\n",
    "                               \"11 2018\", \"november 2018\", \"12 2018\", \"december 2018\" ])\n",
    "                                  \n",
    "    #my_stop_words=my_stop_words.difference([\"call\"])\n",
    "\n",
    "    # initilize \n",
    "    tfidf_vec = TfidfVectorizer(sublinear_tf=True,min_df=2,norm='l2',encoding=\"latin-1\",ngram_range=(1,3),stop_words=my_stop_words,max_features=max_feature_size)\n",
    "    features = tfidf_vec.fit_transform(df[feature_column]).toarray()\n",
    "    return features, tfidf_vec"
   ]
  },
  {
   "cell_type": "code",
   "execution_count": 11,
   "metadata": {},
   "outputs": [],
   "source": [
    "def create_bow(df, feature_column, max_feature_size):\n",
    "    from sklearn.feature_extraction import text\n",
    "    from sklearn.feature_extraction.text import CountVectorizer\n",
    "    my_stop_words = text.ENGLISH_STOP_WORDS.union([\"ap1\", \"00\", \"000\", \"0\", \"561\", \"190\", \"09\", \"24\", \"2017\",\"2018\", \"000 00\", \"2018\",\n",
    "                               \"jan\",\"feb\",\"mar\",\"apr\",\"may\",\"jun\",\"jul\",\"aug\",\"sep\",\"oct\",\"nov\",\"dec\",\n",
    "                               \"ag\", \"ap3\", \"000 00 ap3\", \"ap2\", \"00 ap2\", \"000 00 ap2\", \"10\", \"00 ap1\",\n",
    "                               \"000 00 ap1\", \"oct 2018\", \"000 000\", \"000 000 00\", \"october 2018\", \"10 2018\",\n",
    "                               \"11 2018\", \"november 2018\", \"12 2018\", \"december 2018\"])\n",
    "    #my_stop_words=my_stop_words.difference([\"call\"])\n",
    "\n",
    "    # initilize \n",
    "    Counter_vec = CountVectorizer(encoding=\"latin-1\",ngram_range=(1,3),stop_words=my_stop_words,max_features = max_feature_size)\n",
    "    features = Counter_vec.fit_transform(df[feature_column]).toarray()\n",
    "    return features, Counter_vec"
   ]
  },
  {
   "cell_type": "code",
   "execution_count": 12,
   "metadata": {},
   "outputs": [],
   "source": [
    "def create_words_frequency(features, features_name):\n",
    "    features_df=pd.DataFrame(features)\n",
    "    features_df.columns=features_name\n",
    "    sorted_features = features_df.sum(axis=0).sort_values(ascending=False)\n",
    "    sorted_features=pd.DataFrame(sorted_features)\n",
    "    sorted_features=sorted_features.reset_index()\n",
    "    sorted_features.columns=['Top Words','Counts']\n",
    "    return sorted_features"
   ]
  },
  {
   "cell_type": "code",
   "execution_count": 13,
   "metadata": {},
   "outputs": [
    {
     "name": "stderr",
     "output_type": "stream",
     "text": [
      "C:\\Users\\YuNan\\anaconda3\\envs\\tf-gpu\\lib\\site-packages\\sklearn\\feature_extraction\\text.py:386: UserWarning: Your stop_words may be inconsistent with your preprocessing. Tokenizing the stop words generated tokens ['11', '12', 'december', 'november', 'october'] not in stop_words.\n",
      "  'stop_words.' % sorted(inconsistent))\n"
     ]
    }
   ],
   "source": [
    "features_tfidf, tfidf_vec = create_tfidf(df, feature_column = 'title',max_feature_size=5000)"
   ]
  },
  {
   "cell_type": "code",
   "execution_count": 14,
   "metadata": {},
   "outputs": [],
   "source": [
    "features_tfidf_names=tfidf_vec.get_feature_names()"
   ]
  },
  {
   "cell_type": "code",
   "execution_count": 15,
   "metadata": {},
   "outputs": [],
   "source": [
    "tfidf_sorted_table= create_words_frequency(features_tfidf, features_tfidf_names)"
   ]
  },
  {
   "cell_type": "code",
   "execution_count": 16,
   "metadata": {},
   "outputs": [
    {
     "data": {
      "text/html": [
       "<div>\n",
       "<style scoped>\n",
       "    .dataframe tbody tr th:only-of-type {\n",
       "        vertical-align: middle;\n",
       "    }\n",
       "\n",
       "    .dataframe tbody tr th {\n",
       "        vertical-align: top;\n",
       "    }\n",
       "\n",
       "    .dataframe thead th {\n",
       "        text-align: right;\n",
       "    }\n",
       "</style>\n",
       "<table border=\"1\" class=\"dataframe\">\n",
       "  <thead>\n",
       "    <tr style=\"text-align: right;\">\n",
       "      <th></th>\n",
       "      <th>Top Words</th>\n",
       "      <th>Counts</th>\n",
       "    </tr>\n",
       "  </thead>\n",
       "  <tbody>\n",
       "    <tr>\n",
       "      <th>0</th>\n",
       "      <td>says</td>\n",
       "      <td>462.886557</td>\n",
       "    </tr>\n",
       "    <tr>\n",
       "      <th>1</th>\n",
       "      <td>brief</td>\n",
       "      <td>445.190924</td>\n",
       "    </tr>\n",
       "    <tr>\n",
       "      <th>2</th>\n",
       "      <td>boeing</td>\n",
       "      <td>384.385959</td>\n",
       "    </tr>\n",
       "    <tr>\n",
       "      <th>3</th>\n",
       "      <td>apple</td>\n",
       "      <td>368.597916</td>\n",
       "    </tr>\n",
       "    <tr>\n",
       "      <th>4</th>\n",
       "      <td>amazon</td>\n",
       "      <td>363.937195</td>\n",
       "    </tr>\n",
       "    <tr>\n",
       "      <th>5</th>\n",
       "      <td>facebook</td>\n",
       "      <td>338.170936</td>\n",
       "    </tr>\n",
       "    <tr>\n",
       "      <th>6</th>\n",
       "      <td>tesla</td>\n",
       "      <td>327.117293</td>\n",
       "    </tr>\n",
       "    <tr>\n",
       "      <th>7</th>\n",
       "      <td>new</td>\n",
       "      <td>311.547314</td>\n",
       "    </tr>\n",
       "    <tr>\n",
       "      <th>8</th>\n",
       "      <td>ceo</td>\n",
       "      <td>294.887746</td>\n",
       "    </tr>\n",
       "    <tr>\n",
       "      <th>9</th>\n",
       "      <td>deal</td>\n",
       "      <td>294.860841</td>\n",
       "    </tr>\n",
       "    <tr>\n",
       "      <th>10</th>\n",
       "      <td>covid</td>\n",
       "      <td>288.201416</td>\n",
       "    </tr>\n",
       "    <tr>\n",
       "      <th>11</th>\n",
       "      <td>19</td>\n",
       "      <td>271.785781</td>\n",
       "    </tr>\n",
       "    <tr>\n",
       "      <th>12</th>\n",
       "      <td>covid 19</td>\n",
       "      <td>262.662051</td>\n",
       "    </tr>\n",
       "    <tr>\n",
       "      <th>13</th>\n",
       "      <td>vaccine</td>\n",
       "      <td>251.916691</td>\n",
       "    </tr>\n",
       "    <tr>\n",
       "      <th>14</th>\n",
       "      <td>profit</td>\n",
       "      <td>222.598998</td>\n",
       "    </tr>\n",
       "    <tr>\n",
       "      <th>15</th>\n",
       "      <td>pfizer</td>\n",
       "      <td>220.858209</td>\n",
       "    </tr>\n",
       "    <tr>\n",
       "      <th>16</th>\n",
       "      <td>billion</td>\n",
       "      <td>219.992549</td>\n",
       "    </tr>\n",
       "    <tr>\n",
       "      <th>17</th>\n",
       "      <td>max</td>\n",
       "      <td>212.216601</td>\n",
       "    </tr>\n",
       "    <tr>\n",
       "      <th>18</th>\n",
       "      <td>china</td>\n",
       "      <td>210.730712</td>\n",
       "    </tr>\n",
       "    <tr>\n",
       "      <th>19</th>\n",
       "      <td>goldman</td>\n",
       "      <td>209.127192</td>\n",
       "    </tr>\n",
       "  </tbody>\n",
       "</table>\n",
       "</div>"
      ],
      "text/plain": [
       "   Top Words      Counts\n",
       "0       says  462.886557\n",
       "1      brief  445.190924\n",
       "2     boeing  384.385959\n",
       "3      apple  368.597916\n",
       "4     amazon  363.937195\n",
       "5   facebook  338.170936\n",
       "6      tesla  327.117293\n",
       "7        new  311.547314\n",
       "8        ceo  294.887746\n",
       "9       deal  294.860841\n",
       "10     covid  288.201416\n",
       "11        19  271.785781\n",
       "12  covid 19  262.662051\n",
       "13   vaccine  251.916691\n",
       "14    profit  222.598998\n",
       "15    pfizer  220.858209\n",
       "16   billion  219.992549\n",
       "17       max  212.216601\n",
       "18     china  210.730712\n",
       "19   goldman  209.127192"
      ]
     },
     "execution_count": 16,
     "metadata": {},
     "output_type": "execute_result"
    }
   ],
   "source": [
    "tfidf_sorted_table.head(20)"
   ]
  },
  {
   "cell_type": "code",
   "execution_count": 17,
   "metadata": {},
   "outputs": [
    {
     "name": "stderr",
     "output_type": "stream",
     "text": [
      "C:\\Users\\YuNan\\anaconda3\\envs\\tf-gpu\\lib\\site-packages\\sklearn\\feature_extraction\\text.py:386: UserWarning: Your stop_words may be inconsistent with your preprocessing. Tokenizing the stop words generated tokens ['11', '12', 'december', 'november', 'october'] not in stop_words.\n",
      "  'stop_words.' % sorted(inconsistent))\n"
     ]
    }
   ],
   "source": [
    "features_bow, bow_vec = create_bow(df, feature_column = 'title',max_feature_size=5000)"
   ]
  },
  {
   "cell_type": "code",
   "execution_count": 18,
   "metadata": {},
   "outputs": [],
   "source": [
    "features_bow_names=bow_vec.get_feature_names()"
   ]
  },
  {
   "cell_type": "code",
   "execution_count": 19,
   "metadata": {},
   "outputs": [],
   "source": [
    "bow_sorted_table= create_words_frequency(features_bow, features_bow_names)"
   ]
  },
  {
   "cell_type": "code",
   "execution_count": 20,
   "metadata": {},
   "outputs": [
    {
     "data": {
      "text/html": [
       "<div>\n",
       "<style scoped>\n",
       "    .dataframe tbody tr th:only-of-type {\n",
       "        vertical-align: middle;\n",
       "    }\n",
       "\n",
       "    .dataframe tbody tr th {\n",
       "        vertical-align: top;\n",
       "    }\n",
       "\n",
       "    .dataframe thead th {\n",
       "        text-align: right;\n",
       "    }\n",
       "</style>\n",
       "<table border=\"1\" class=\"dataframe\">\n",
       "  <thead>\n",
       "    <tr style=\"text-align: right;\">\n",
       "      <th></th>\n",
       "      <th>Top Words</th>\n",
       "      <th>Counts</th>\n",
       "    </tr>\n",
       "  </thead>\n",
       "  <tbody>\n",
       "    <tr>\n",
       "      <th>0</th>\n",
       "      <td>brief</td>\n",
       "      <td>2762</td>\n",
       "    </tr>\n",
       "    <tr>\n",
       "      <th>1</th>\n",
       "      <td>says</td>\n",
       "      <td>2650</td>\n",
       "    </tr>\n",
       "    <tr>\n",
       "      <th>2</th>\n",
       "      <td>boeing</td>\n",
       "      <td>1994</td>\n",
       "    </tr>\n",
       "    <tr>\n",
       "      <th>3</th>\n",
       "      <td>apple</td>\n",
       "      <td>1810</td>\n",
       "    </tr>\n",
       "    <tr>\n",
       "      <th>4</th>\n",
       "      <td>amazon</td>\n",
       "      <td>1711</td>\n",
       "    </tr>\n",
       "    <tr>\n",
       "      <th>5</th>\n",
       "      <td>covid</td>\n",
       "      <td>1532</td>\n",
       "    </tr>\n",
       "    <tr>\n",
       "      <th>6</th>\n",
       "      <td>facebook</td>\n",
       "      <td>1511</td>\n",
       "    </tr>\n",
       "    <tr>\n",
       "      <th>7</th>\n",
       "      <td>new</td>\n",
       "      <td>1497</td>\n",
       "    </tr>\n",
       "    <tr>\n",
       "      <th>8</th>\n",
       "      <td>19</td>\n",
       "      <td>1438</td>\n",
       "    </tr>\n",
       "    <tr>\n",
       "      <th>9</th>\n",
       "      <td>tesla</td>\n",
       "      <td>1435</td>\n",
       "    </tr>\n",
       "    <tr>\n",
       "      <th>10</th>\n",
       "      <td>covid 19</td>\n",
       "      <td>1378</td>\n",
       "    </tr>\n",
       "    <tr>\n",
       "      <th>11</th>\n",
       "      <td>ceo</td>\n",
       "      <td>1368</td>\n",
       "    </tr>\n",
       "    <tr>\n",
       "      <th>12</th>\n",
       "      <td>deal</td>\n",
       "      <td>1358</td>\n",
       "    </tr>\n",
       "    <tr>\n",
       "      <th>13</th>\n",
       "      <td>vaccine</td>\n",
       "      <td>1201</td>\n",
       "    </tr>\n",
       "    <tr>\n",
       "      <th>14</th>\n",
       "      <td>stocks</td>\n",
       "      <td>1018</td>\n",
       "    </tr>\n",
       "    <tr>\n",
       "      <th>15</th>\n",
       "      <td>pfizer</td>\n",
       "      <td>1012</td>\n",
       "    </tr>\n",
       "    <tr>\n",
       "      <th>16</th>\n",
       "      <td>profit</td>\n",
       "      <td>1007</td>\n",
       "    </tr>\n",
       "    <tr>\n",
       "      <th>17</th>\n",
       "      <td>max</td>\n",
       "      <td>1002</td>\n",
       "    </tr>\n",
       "    <tr>\n",
       "      <th>18</th>\n",
       "      <td>737</td>\n",
       "      <td>948</td>\n",
       "    </tr>\n",
       "    <tr>\n",
       "      <th>19</th>\n",
       "      <td>billion</td>\n",
       "      <td>910</td>\n",
       "    </tr>\n",
       "  </tbody>\n",
       "</table>\n",
       "</div>"
      ],
      "text/plain": [
       "   Top Words  Counts\n",
       "0      brief    2762\n",
       "1       says    2650\n",
       "2     boeing    1994\n",
       "3      apple    1810\n",
       "4     amazon    1711\n",
       "5      covid    1532\n",
       "6   facebook    1511\n",
       "7        new    1497\n",
       "8         19    1438\n",
       "9      tesla    1435\n",
       "10  covid 19    1378\n",
       "11       ceo    1368\n",
       "12      deal    1358\n",
       "13   vaccine    1201\n",
       "14    stocks    1018\n",
       "15    pfizer    1012\n",
       "16    profit    1007\n",
       "17       max    1002\n",
       "18       737     948\n",
       "19   billion     910"
      ]
     },
     "execution_count": 20,
     "metadata": {},
     "output_type": "execute_result"
    }
   ],
   "source": [
    "bow_sorted_table.head(20)"
   ]
  },
  {
   "cell_type": "markdown",
   "metadata": {},
   "source": [
    "## Sentiment Score<br>\n",
    "### nltk.sentiment.vader package [medium_blog](https://medium.com/analytics-vidhya/simplifying-social-media-sentiment-analysis-using-vader-in-python-f9e6ec6fc52f).<br>\n",
    "### nltk documentation[nltk_blog](https://www.nltk.org/api/nltk.sentiment.html)"
   ]
  },
  {
   "cell_type": "code",
   "execution_count": 23,
   "metadata": {},
   "outputs": [
    {
     "name": "stderr",
     "output_type": "stream",
     "text": [
      "[nltk_data] Downloading package vader_lexicon to\n",
      "[nltk_data]     C:\\Users\\YuNan\\AppData\\Roaming\\nltk_data...\n"
     ]
    },
    {
     "data": {
      "text/plain": [
       "True"
      ]
     },
     "execution_count": 23,
     "metadata": {},
     "output_type": "execute_result"
    }
   ],
   "source": [
    "import nltk\n",
    "nltk.downloader.download('vader_lexicon')"
   ]
  },
  {
   "cell_type": "code",
   "execution_count": 24,
   "metadata": {},
   "outputs": [],
   "source": [
    "from nltk.sentiment.vader import SentimentIntensityAnalyzer\n",
    "sid = SentimentIntensityAnalyzer()"
   ]
  },
  {
   "cell_type": "code",
   "execution_count": 25,
   "metadata": {},
   "outputs": [
    {
     "name": "stdout",
     "output_type": "stream",
     "text": [
      "Wall time: 3.06 s\n"
     ]
    }
   ],
   "source": [
    "get_ipython().run_cell_magic('time', '', 'title_score = [sid.polarity_scores(sent) for sent in df.title]')"
   ]
  },
  {
   "cell_type": "code",
   "execution_count": 26,
   "metadata": {},
   "outputs": [
    {
     "data": {
      "text/plain": [
       "29630"
      ]
     },
     "execution_count": 26,
     "metadata": {},
     "output_type": "execute_result"
    }
   ],
   "source": [
    "len(title_score)"
   ]
  },
  {
   "cell_type": "code",
   "execution_count": 27,
   "metadata": {},
   "outputs": [
    {
     "data": {
      "text/plain": [
       "array(['US STOCKS SNAPSHOT-Wall St ends up sharply on German stimulus optimism',\n",
       "       'US STOCKS SNAPSHOT-S&P, Dow eke out gains after U.S. jobs report',\n",
       "       'US STOCKS SNAPSHOT-Wall Street ends mixed as Microsoft, Apple offset',\n",
       "       'US STOCKS SNAPSHOT-Wall Street ends mixed as Microsoft, Apple offset',\n",
       "       'US STOCKS SNAPSHOT-Boeing, J&J pull down Wall Street along with weak China data',\n",
       "       'US STOCKS SNAPSHOT-Boeing, J&J pull down Wall Street along with weak China data',\n",
       "       'US STOCKS SNAPSHOT-S&P 500 notches another record, shakes off dour Cisco forecast',\n",
       "       'US STOCKS SNAPSHOT-S&P 500 notches another record, shakes off dour Cisco forecast',\n",
       "       'US STOCKS SNAPSHOT-Trade hopes propel Wall Street to records; healthcare climbs',\n",
       "       'BRIEF-Schaeffler Q1 EBIT At EUR -88.0 Mln'], dtype=object)"
      ]
     },
     "execution_count": 27,
     "metadata": {},
     "output_type": "execute_result"
    }
   ],
   "source": [
    "df.title[0:10].values"
   ]
  },
  {
   "cell_type": "code",
   "execution_count": 28,
   "metadata": {},
   "outputs": [
    {
     "data": {
      "text/plain": [
       "[{'neg': 0.0, 'neu': 0.741, 'pos': 0.259, 'compound': 0.5423},\n",
       " {'neg': 0.0, 'neu': 0.806, 'pos': 0.194, 'compound': 0.34},\n",
       " {'neg': 0.0, 'neu': 1.0, 'pos': 0.0, 'compound': 0.0},\n",
       " {'neg': 0.0, 'neu': 1.0, 'pos': 0.0, 'compound': 0.0},\n",
       " {'neg': 0.195, 'neu': 0.805, 'pos': 0.0, 'compound': -0.4404},\n",
       " {'neg': 0.195, 'neu': 0.805, 'pos': 0.0, 'compound': -0.4404},\n",
       " {'neg': 0.0, 'neu': 1.0, 'pos': 0.0, 'compound': 0.0},\n",
       " {'neg': 0.0, 'neu': 1.0, 'pos': 0.0, 'compound': 0.0},\n",
       " {'neg': 0.0, 'neu': 0.781, 'pos': 0.219, 'compound': 0.4215},\n",
       " {'neg': 0.0, 'neu': 1.0, 'pos': 0.0, 'compound': 0.0}]"
      ]
     },
     "execution_count": 28,
     "metadata": {},
     "output_type": "execute_result"
    }
   ],
   "source": [
    "title_score[0:10]"
   ]
  },
  {
   "cell_type": "code",
   "execution_count": 29,
   "metadata": {},
   "outputs": [],
   "source": [
    "compound=[]\n",
    "neg=[]\n",
    "neu=[]\n",
    "pos=[]"
   ]
  },
  {
   "cell_type": "code",
   "execution_count": 30,
   "metadata": {},
   "outputs": [],
   "source": [
    "for i in range(len(title_score)):\n",
    "    compound.append(title_score[i]['compound'])\n",
    "    neg.append(title_score[i]['neg'])\n",
    "    neu.append(title_score[i]['neu'])\n",
    "    pos.append(title_score[i]['pos'])"
   ]
  },
  {
   "cell_type": "code",
   "execution_count": 31,
   "metadata": {},
   "outputs": [
    {
     "data": {
      "text/plain": [
       "29630"
      ]
     },
     "execution_count": 31,
     "metadata": {},
     "output_type": "execute_result"
    }
   ],
   "source": [
    "len(compound)"
   ]
  },
  {
   "cell_type": "code",
   "execution_count": 32,
   "metadata": {},
   "outputs": [
    {
     "data": {
      "text/plain": [
       "29630"
      ]
     },
     "execution_count": 32,
     "metadata": {},
     "output_type": "execute_result"
    }
   ],
   "source": [
    "len(neg)"
   ]
  },
  {
   "cell_type": "code",
   "execution_count": 33,
   "metadata": {},
   "outputs": [
    {
     "data": {
      "text/plain": [
       "29630"
      ]
     },
     "execution_count": 33,
     "metadata": {},
     "output_type": "execute_result"
    }
   ],
   "source": [
    "len(neu)"
   ]
  },
  {
   "cell_type": "code",
   "execution_count": 34,
   "metadata": {},
   "outputs": [
    {
     "data": {
      "text/plain": [
       "29630"
      ]
     },
     "execution_count": 34,
     "metadata": {},
     "output_type": "execute_result"
    }
   ],
   "source": [
    "len(pos)"
   ]
  },
  {
   "cell_type": "code",
   "execution_count": 35,
   "metadata": {},
   "outputs": [],
   "source": [
    "df['compound'] = compound\n",
    "df['neg'] = neg\n",
    "df['neu'] = neu\n",
    "df['pos'] = pos"
   ]
  },
  {
   "cell_type": "code",
   "execution_count": 36,
   "metadata": {},
   "outputs": [
    {
     "data": {
      "text/html": [
       "<div>\n",
       "<style scoped>\n",
       "    .dataframe tbody tr th:only-of-type {\n",
       "        vertical-align: middle;\n",
       "    }\n",
       "\n",
       "    .dataframe tbody tr th {\n",
       "        vertical-align: top;\n",
       "    }\n",
       "\n",
       "    .dataframe thead th {\n",
       "        text-align: right;\n",
       "    }\n",
       "</style>\n",
       "<table border=\"1\" class=\"dataframe\">\n",
       "  <thead>\n",
       "    <tr style=\"text-align: right;\">\n",
       "      <th></th>\n",
       "      <th>published_date</th>\n",
       "      <th>company</th>\n",
       "      <th>title</th>\n",
       "      <th>body</th>\n",
       "      <th>url</th>\n",
       "      <th>compound</th>\n",
       "      <th>neg</th>\n",
       "      <th>neu</th>\n",
       "      <th>pos</th>\n",
       "    </tr>\n",
       "  </thead>\n",
       "  <tbody>\n",
       "    <tr>\n",
       "      <th>0</th>\n",
       "      <td>2016-01-28 21:06:10+00:00</td>\n",
       "      <td>FB</td>\n",
       "      <td>US STOCKS SNAPSHOT-Wall St ends up sharply on ...</td>\n",
       "      <td>NEW YORK, Aug 16 (Reuters) - U.S. stocks rebou...</td>\n",
       "      <td>https://www.reuters.com/article/usa-stocks/us-...</td>\n",
       "      <td>0.5423</td>\n",
       "      <td>0.000</td>\n",
       "      <td>0.741</td>\n",
       "      <td>0.259</td>\n",
       "    </tr>\n",
       "    <tr>\n",
       "      <th>1</th>\n",
       "      <td>2016-02-18 21:05:42+00:00</td>\n",
       "      <td>WMT</td>\n",
       "      <td>US STOCKS SNAPSHOT-S&amp;P, Dow eke out gains afte...</td>\n",
       "      <td>NEW YORK, Sept 6 (Reuters) - The S&amp;P 500 and t...</td>\n",
       "      <td>https://www.reuters.com/article/usa-stocks/us-...</td>\n",
       "      <td>0.3400</td>\n",
       "      <td>0.000</td>\n",
       "      <td>0.806</td>\n",
       "      <td>0.194</td>\n",
       "    </tr>\n",
       "    <tr>\n",
       "      <th>2</th>\n",
       "      <td>2016-03-02 22:09:26+00:00</td>\n",
       "      <td>AAPL</td>\n",
       "      <td>US STOCKS SNAPSHOT-Wall Street ends mixed as M...</td>\n",
       "      <td>Sept 19 (Reuters) - Wall Street ended mixed on...</td>\n",
       "      <td>https://www.reuters.com/article/usa-stocks/us-...</td>\n",
       "      <td>0.0000</td>\n",
       "      <td>0.000</td>\n",
       "      <td>1.000</td>\n",
       "      <td>0.000</td>\n",
       "    </tr>\n",
       "    <tr>\n",
       "      <th>3</th>\n",
       "      <td>2016-03-02 22:09:26+00:00</td>\n",
       "      <td>MSFT</td>\n",
       "      <td>US STOCKS SNAPSHOT-Wall Street ends mixed as M...</td>\n",
       "      <td>Sept 19 (Reuters) - Wall Street ended mixed on...</td>\n",
       "      <td>https://www.reuters.com/article/usa-stocks/us-...</td>\n",
       "      <td>0.0000</td>\n",
       "      <td>0.000</td>\n",
       "      <td>1.000</td>\n",
       "      <td>0.000</td>\n",
       "    </tr>\n",
       "    <tr>\n",
       "      <th>4</th>\n",
       "      <td>2016-03-31 20:05:35+00:00</td>\n",
       "      <td>BA</td>\n",
       "      <td>US STOCKS SNAPSHOT-Boeing, J&amp;J pull down Wall ...</td>\n",
       "      <td>NEW YORK, Oct 18 (Reuters) - Wall Street fell ...</td>\n",
       "      <td>https://www.reuters.com/article/usa-stocks/us-...</td>\n",
       "      <td>-0.4404</td>\n",
       "      <td>0.195</td>\n",
       "      <td>0.805</td>\n",
       "      <td>0.000</td>\n",
       "    </tr>\n",
       "  </tbody>\n",
       "</table>\n",
       "</div>"
      ],
      "text/plain": [
       "              published_date company  \\\n",
       "0  2016-01-28 21:06:10+00:00      FB   \n",
       "1  2016-02-18 21:05:42+00:00     WMT   \n",
       "2  2016-03-02 22:09:26+00:00    AAPL   \n",
       "3  2016-03-02 22:09:26+00:00    MSFT   \n",
       "4  2016-03-31 20:05:35+00:00      BA   \n",
       "\n",
       "                                               title  \\\n",
       "0  US STOCKS SNAPSHOT-Wall St ends up sharply on ...   \n",
       "1  US STOCKS SNAPSHOT-S&P, Dow eke out gains afte...   \n",
       "2  US STOCKS SNAPSHOT-Wall Street ends mixed as M...   \n",
       "3  US STOCKS SNAPSHOT-Wall Street ends mixed as M...   \n",
       "4  US STOCKS SNAPSHOT-Boeing, J&J pull down Wall ...   \n",
       "\n",
       "                                                body  \\\n",
       "0  NEW YORK, Aug 16 (Reuters) - U.S. stocks rebou...   \n",
       "1  NEW YORK, Sept 6 (Reuters) - The S&P 500 and t...   \n",
       "2  Sept 19 (Reuters) - Wall Street ended mixed on...   \n",
       "3  Sept 19 (Reuters) - Wall Street ended mixed on...   \n",
       "4  NEW YORK, Oct 18 (Reuters) - Wall Street fell ...   \n",
       "\n",
       "                                                 url  compound    neg    neu  \\\n",
       "0  https://www.reuters.com/article/usa-stocks/us-...    0.5423  0.000  0.741   \n",
       "1  https://www.reuters.com/article/usa-stocks/us-...    0.3400  0.000  0.806   \n",
       "2  https://www.reuters.com/article/usa-stocks/us-...    0.0000  0.000  1.000   \n",
       "3  https://www.reuters.com/article/usa-stocks/us-...    0.0000  0.000  1.000   \n",
       "4  https://www.reuters.com/article/usa-stocks/us-...   -0.4404  0.195  0.805   \n",
       "\n",
       "     pos  \n",
       "0  0.259  \n",
       "1  0.194  \n",
       "2  0.000  \n",
       "3  0.000  \n",
       "4  0.000  "
      ]
     },
     "execution_count": 36,
     "metadata": {},
     "output_type": "execute_result"
    }
   ],
   "source": [
    "df.head()"
   ]
  },
  {
   "cell_type": "code",
   "execution_count": 37,
   "metadata": {},
   "outputs": [],
   "source": [
    "df.to_csv('new_data_articles_with_sentiment.csv')"
   ]
  }
 ],
 "metadata": {
  "kernelspec": {
   "display_name": "Python 3",
   "language": "python",
   "name": "python3"
  },
  "language_info": {
   "codemirror_mode": {
    "name": "ipython",
    "version": 3
   },
   "file_extension": ".py",
   "mimetype": "text/x-python",
   "name": "python",
   "nbconvert_exporter": "python",
   "pygments_lexer": "ipython3",
   "version": "3.7.9"
  }
 },
 "nbformat": 4,
 "nbformat_minor": 2
}
