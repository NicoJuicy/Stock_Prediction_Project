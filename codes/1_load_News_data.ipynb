{
 "cells": [
  {
   "cell_type": "code",
   "execution_count": 1,
   "metadata": {},
   "outputs": [],
   "source": [
    "import os, json\n",
    "import pandas as pd"
   ]
  },
  {
   "cell_type": "markdown",
   "metadata": {},
   "source": [
    "##  Function as a generator to load all files in all sub-folders under the parent directory "
   ]
  },
  {
   "cell_type": "code",
   "execution_count": 2,
   "metadata": {},
   "outputs": [],
   "source": [
    "def list_files(dirpath):\n",
    "    for dirname, dirnames, filenames in os.walk(dirpath):\n",
    "        for filename in filenames:\n",
    "            yield os.path.join(dirname, filename)"
   ]
  },
  {
   "cell_type": "markdown",
   "metadata": {},
   "source": [
    "## Load all .json files use json.loads(), basically each .json file only contains 1 line"
   ]
  },
  {
   "cell_type": "code",
   "execution_count": 6,
   "metadata": {},
   "outputs": [],
   "source": [
    "json_list = []"
   ]
  },
  {
   "cell_type": "code",
   "execution_count": 55,
   "metadata": {},
   "outputs": [],
   "source": [
    "dirpath = 'C:/Users/YuNan/Downloads/stock/'\n",
    "for filePath in list_files(dirpath):\n",
    "     if filePath.endswith('.json'):\n",
    "            with open(filePath) as f:\n",
    "                for line in f:\n",
    "                    data = json.loads(line)\n",
    "                    for j in range(len([*data])):\n",
    "                        for k in range(len(data[[*data][j]])):\n",
    "                            json_list.append([data[[*data][j]][k]['pub_time'], [*data][j], data[[*data][j]][k]['title'], data[[*data][j]][k]['text'], data[[*data][j]][k]['url']])"
   ]
  },
  {
   "cell_type": "markdown",
   "metadata": {},
   "source": [
    "## Make sure the length of json list matches the total files"
   ]
  },
  {
   "cell_type": "code",
   "execution_count": 56,
   "metadata": {},
   "outputs": [
    {
     "data": {
      "text/plain": [
       "29630"
      ]
     },
     "execution_count": 56,
     "metadata": {},
     "output_type": "execute_result"
    }
   ],
   "source": [
    "len(json_list)"
   ]
  },
  {
   "cell_type": "markdown",
   "metadata": {},
   "source": [
    "## Convert Json to DataFrame in order to perform data analysis"
   ]
  },
  {
   "cell_type": "code",
   "execution_count": 57,
   "metadata": {},
   "outputs": [],
   "source": [
    "col_names =  ['published_date','company','title','body','url']\n",
    "df= pd.DataFrame(json_list,columns=col_names)"
   ]
  },
  {
   "cell_type": "code",
   "execution_count": 58,
   "metadata": {},
   "outputs": [
    {
     "data": {
      "text/plain": [
       "(29630, 5)"
      ]
     },
     "execution_count": 58,
     "metadata": {},
     "output_type": "execute_result"
    }
   ],
   "source": [
    "df.shape"
   ]
  },
  {
   "cell_type": "code",
   "execution_count": 59,
   "metadata": {},
   "outputs": [
    {
     "data": {
      "text/html": [
       "<div>\n",
       "<style scoped>\n",
       "    .dataframe tbody tr th:only-of-type {\n",
       "        vertical-align: middle;\n",
       "    }\n",
       "\n",
       "    .dataframe tbody tr th {\n",
       "        vertical-align: top;\n",
       "    }\n",
       "\n",
       "    .dataframe thead th {\n",
       "        text-align: right;\n",
       "    }\n",
       "</style>\n",
       "<table border=\"1\" class=\"dataframe\">\n",
       "  <thead>\n",
       "    <tr style=\"text-align: right;\">\n",
       "      <th></th>\n",
       "      <th>published_date</th>\n",
       "      <th>company</th>\n",
       "      <th>title</th>\n",
       "      <th>body</th>\n",
       "      <th>url</th>\n",
       "    </tr>\n",
       "  </thead>\n",
       "  <tbody>\n",
       "    <tr>\n",
       "      <th>0</th>\n",
       "      <td>2018-03-27 18:43:38+00:00</td>\n",
       "      <td>FB</td>\n",
       "      <td>BRIEF-Reports Of Mark Zuckerberg's Confirmed A...</td>\n",
       "      <td>March 28 (Reuters) -\\n\\n* REPORTS OF FACEBOOK’...</td>\n",
       "      <td>https://www.reuters.com/article/brief-reports-...</td>\n",
       "    </tr>\n",
       "    <tr>\n",
       "      <th>1</th>\n",
       "      <td>2020-09-24 14:13:09+00:00</td>\n",
       "      <td>FB</td>\n",
       "      <td>Fact check: Image condemning mask-wearing cont...</td>\n",
       "      <td>An image shared on Facebook shows an illustrat...</td>\n",
       "      <td>https://www.reuters.com/article/uk-factcheck-m...</td>\n",
       "    </tr>\n",
       "    <tr>\n",
       "      <th>2</th>\n",
       "      <td>2019-04-23 07:01:55+00:00</td>\n",
       "      <td>FB</td>\n",
       "      <td>Facebook's flood of languages leave it struggl...</td>\n",
       "      <td>NAIROBI/SAN FRANCISCO (Reuters) - Facebook Inc...</td>\n",
       "      <td>https://www.reuters.com/article/us-facebook-la...</td>\n",
       "    </tr>\n",
       "    <tr>\n",
       "      <th>3</th>\n",
       "      <td>2018-09-28 19:35:06+00:00</td>\n",
       "      <td>FB</td>\n",
       "      <td>GLOBAL MARKETS-Italy budget woes hit Europe, b...</td>\n",
       "      <td>* Italian bank stocks take big hit on budget c...</td>\n",
       "      <td>https://www.reuters.com/article/global-markets...</td>\n",
       "    </tr>\n",
       "    <tr>\n",
       "      <th>4</th>\n",
       "      <td>2019-06-28 21:05:24+00:00</td>\n",
       "      <td>FB</td>\n",
       "      <td>Facebook's Libra coin likely to run a regulato...</td>\n",
       "      <td>NEW YORK/SAN FRANCISCO(Reuters) - Facebook Inc...</td>\n",
       "      <td>https://www.reuters.com/article/us-facebook-cr...</td>\n",
       "    </tr>\n",
       "  </tbody>\n",
       "</table>\n",
       "</div>"
      ],
      "text/plain": [
       "              published_date company  \\\n",
       "0  2018-03-27 18:43:38+00:00      FB   \n",
       "1  2020-09-24 14:13:09+00:00      FB   \n",
       "2  2019-04-23 07:01:55+00:00      FB   \n",
       "3  2018-09-28 19:35:06+00:00      FB   \n",
       "4  2019-06-28 21:05:24+00:00      FB   \n",
       "\n",
       "                                               title  \\\n",
       "0  BRIEF-Reports Of Mark Zuckerberg's Confirmed A...   \n",
       "1  Fact check: Image condemning mask-wearing cont...   \n",
       "2  Facebook's flood of languages leave it struggl...   \n",
       "3  GLOBAL MARKETS-Italy budget woes hit Europe, b...   \n",
       "4  Facebook's Libra coin likely to run a regulato...   \n",
       "\n",
       "                                                body  \\\n",
       "0  March 28 (Reuters) -\\n\\n* REPORTS OF FACEBOOK’...   \n",
       "1  An image shared on Facebook shows an illustrat...   \n",
       "2  NAIROBI/SAN FRANCISCO (Reuters) - Facebook Inc...   \n",
       "3  * Italian bank stocks take big hit on budget c...   \n",
       "4  NEW YORK/SAN FRANCISCO(Reuters) - Facebook Inc...   \n",
       "\n",
       "                                                 url  \n",
       "0  https://www.reuters.com/article/brief-reports-...  \n",
       "1  https://www.reuters.com/article/uk-factcheck-m...  \n",
       "2  https://www.reuters.com/article/us-facebook-la...  \n",
       "3  https://www.reuters.com/article/global-markets...  \n",
       "4  https://www.reuters.com/article/us-facebook-cr...  "
      ]
     },
     "execution_count": 59,
     "metadata": {},
     "output_type": "execute_result"
    }
   ],
   "source": [
    "df.head()"
   ]
  },
  {
   "cell_type": "markdown",
   "metadata": {},
   "source": [
    "## Sort the data by date"
   ]
  },
  {
   "cell_type": "code",
   "execution_count": 60,
   "metadata": {},
   "outputs": [],
   "source": [
    "df = df.sort_values(by=['published_date'], ascending=True)"
   ]
  },
  {
   "cell_type": "code",
   "execution_count": 61,
   "metadata": {},
   "outputs": [
    {
     "data": {
      "text/html": [
       "<div>\n",
       "<style scoped>\n",
       "    .dataframe tbody tr th:only-of-type {\n",
       "        vertical-align: middle;\n",
       "    }\n",
       "\n",
       "    .dataframe tbody tr th {\n",
       "        vertical-align: top;\n",
       "    }\n",
       "\n",
       "    .dataframe thead th {\n",
       "        text-align: right;\n",
       "    }\n",
       "</style>\n",
       "<table border=\"1\" class=\"dataframe\">\n",
       "  <thead>\n",
       "    <tr style=\"text-align: right;\">\n",
       "      <th></th>\n",
       "      <th>published_date</th>\n",
       "      <th>company</th>\n",
       "      <th>title</th>\n",
       "      <th>body</th>\n",
       "      <th>url</th>\n",
       "    </tr>\n",
       "  </thead>\n",
       "  <tbody>\n",
       "    <tr>\n",
       "      <th>1547</th>\n",
       "      <td>2016-01-28 21:06:10+00:00</td>\n",
       "      <td>FB</td>\n",
       "      <td>US STOCKS SNAPSHOT-Wall St ends up sharply on ...</td>\n",
       "      <td>NEW YORK, Aug 16 (Reuters) - U.S. stocks rebou...</td>\n",
       "      <td>https://www.reuters.com/article/usa-stocks/us-...</td>\n",
       "    </tr>\n",
       "    <tr>\n",
       "      <th>26546</th>\n",
       "      <td>2016-02-18 21:05:42+00:00</td>\n",
       "      <td>WMT</td>\n",
       "      <td>US STOCKS SNAPSHOT-S&amp;P, Dow eke out gains afte...</td>\n",
       "      <td>NEW YORK, Sept 6 (Reuters) - The S&amp;P 500 and t...</td>\n",
       "      <td>https://www.reuters.com/article/usa-stocks/us-...</td>\n",
       "    </tr>\n",
       "    <tr>\n",
       "      <th>15511</th>\n",
       "      <td>2016-03-02 22:09:26+00:00</td>\n",
       "      <td>AAPL</td>\n",
       "      <td>US STOCKS SNAPSHOT-Wall Street ends mixed as M...</td>\n",
       "      <td>Sept 19 (Reuters) - Wall Street ended mixed on...</td>\n",
       "      <td>https://www.reuters.com/article/usa-stocks/us-...</td>\n",
       "    </tr>\n",
       "    <tr>\n",
       "      <th>23586</th>\n",
       "      <td>2016-03-02 22:09:26+00:00</td>\n",
       "      <td>MSFT</td>\n",
       "      <td>US STOCKS SNAPSHOT-Wall Street ends mixed as M...</td>\n",
       "      <td>Sept 19 (Reuters) - Wall Street ended mixed on...</td>\n",
       "      <td>https://www.reuters.com/article/usa-stocks/us-...</td>\n",
       "    </tr>\n",
       "    <tr>\n",
       "      <th>26944</th>\n",
       "      <td>2016-03-31 20:05:35+00:00</td>\n",
       "      <td>BA</td>\n",
       "      <td>US STOCKS SNAPSHOT-Boeing, J&amp;J pull down Wall ...</td>\n",
       "      <td>NEW YORK, Oct 18 (Reuters) - Wall Street fell ...</td>\n",
       "      <td>https://www.reuters.com/article/usa-stocks/us-...</td>\n",
       "    </tr>\n",
       "  </tbody>\n",
       "</table>\n",
       "</div>"
      ],
      "text/plain": [
       "                  published_date company  \\\n",
       "1547   2016-01-28 21:06:10+00:00      FB   \n",
       "26546  2016-02-18 21:05:42+00:00     WMT   \n",
       "15511  2016-03-02 22:09:26+00:00    AAPL   \n",
       "23586  2016-03-02 22:09:26+00:00    MSFT   \n",
       "26944  2016-03-31 20:05:35+00:00      BA   \n",
       "\n",
       "                                                   title  \\\n",
       "1547   US STOCKS SNAPSHOT-Wall St ends up sharply on ...   \n",
       "26546  US STOCKS SNAPSHOT-S&P, Dow eke out gains afte...   \n",
       "15511  US STOCKS SNAPSHOT-Wall Street ends mixed as M...   \n",
       "23586  US STOCKS SNAPSHOT-Wall Street ends mixed as M...   \n",
       "26944  US STOCKS SNAPSHOT-Boeing, J&J pull down Wall ...   \n",
       "\n",
       "                                                    body  \\\n",
       "1547   NEW YORK, Aug 16 (Reuters) - U.S. stocks rebou...   \n",
       "26546  NEW YORK, Sept 6 (Reuters) - The S&P 500 and t...   \n",
       "15511  Sept 19 (Reuters) - Wall Street ended mixed on...   \n",
       "23586  Sept 19 (Reuters) - Wall Street ended mixed on...   \n",
       "26944  NEW YORK, Oct 18 (Reuters) - Wall Street fell ...   \n",
       "\n",
       "                                                     url  \n",
       "1547   https://www.reuters.com/article/usa-stocks/us-...  \n",
       "26546  https://www.reuters.com/article/usa-stocks/us-...  \n",
       "15511  https://www.reuters.com/article/usa-stocks/us-...  \n",
       "23586  https://www.reuters.com/article/usa-stocks/us-...  \n",
       "26944  https://www.reuters.com/article/usa-stocks/us-...  "
      ]
     },
     "execution_count": 61,
     "metadata": {},
     "output_type": "execute_result"
    }
   ],
   "source": [
    "df.head()"
   ]
  },
  {
   "cell_type": "code",
   "execution_count": 62,
   "metadata": {},
   "outputs": [],
   "source": [
    "df=df.reset_index(inplace=False)\n",
    "del df['index']"
   ]
  },
  {
   "cell_type": "code",
   "execution_count": 63,
   "metadata": {},
   "outputs": [
    {
     "data": {
      "text/html": [
       "<div>\n",
       "<style scoped>\n",
       "    .dataframe tbody tr th:only-of-type {\n",
       "        vertical-align: middle;\n",
       "    }\n",
       "\n",
       "    .dataframe tbody tr th {\n",
       "        vertical-align: top;\n",
       "    }\n",
       "\n",
       "    .dataframe thead th {\n",
       "        text-align: right;\n",
       "    }\n",
       "</style>\n",
       "<table border=\"1\" class=\"dataframe\">\n",
       "  <thead>\n",
       "    <tr style=\"text-align: right;\">\n",
       "      <th></th>\n",
       "      <th>published_date</th>\n",
       "      <th>company</th>\n",
       "      <th>title</th>\n",
       "      <th>body</th>\n",
       "      <th>url</th>\n",
       "    </tr>\n",
       "  </thead>\n",
       "  <tbody>\n",
       "    <tr>\n",
       "      <th>0</th>\n",
       "      <td>2016-01-28 21:06:10+00:00</td>\n",
       "      <td>FB</td>\n",
       "      <td>US STOCKS SNAPSHOT-Wall St ends up sharply on ...</td>\n",
       "      <td>NEW YORK, Aug 16 (Reuters) - U.S. stocks rebou...</td>\n",
       "      <td>https://www.reuters.com/article/usa-stocks/us-...</td>\n",
       "    </tr>\n",
       "    <tr>\n",
       "      <th>1</th>\n",
       "      <td>2016-02-18 21:05:42+00:00</td>\n",
       "      <td>WMT</td>\n",
       "      <td>US STOCKS SNAPSHOT-S&amp;P, Dow eke out gains afte...</td>\n",
       "      <td>NEW YORK, Sept 6 (Reuters) - The S&amp;P 500 and t...</td>\n",
       "      <td>https://www.reuters.com/article/usa-stocks/us-...</td>\n",
       "    </tr>\n",
       "    <tr>\n",
       "      <th>2</th>\n",
       "      <td>2016-03-02 22:09:26+00:00</td>\n",
       "      <td>AAPL</td>\n",
       "      <td>US STOCKS SNAPSHOT-Wall Street ends mixed as M...</td>\n",
       "      <td>Sept 19 (Reuters) - Wall Street ended mixed on...</td>\n",
       "      <td>https://www.reuters.com/article/usa-stocks/us-...</td>\n",
       "    </tr>\n",
       "    <tr>\n",
       "      <th>3</th>\n",
       "      <td>2016-03-02 22:09:26+00:00</td>\n",
       "      <td>MSFT</td>\n",
       "      <td>US STOCKS SNAPSHOT-Wall Street ends mixed as M...</td>\n",
       "      <td>Sept 19 (Reuters) - Wall Street ended mixed on...</td>\n",
       "      <td>https://www.reuters.com/article/usa-stocks/us-...</td>\n",
       "    </tr>\n",
       "    <tr>\n",
       "      <th>4</th>\n",
       "      <td>2016-03-31 20:05:35+00:00</td>\n",
       "      <td>BA</td>\n",
       "      <td>US STOCKS SNAPSHOT-Boeing, J&amp;J pull down Wall ...</td>\n",
       "      <td>NEW YORK, Oct 18 (Reuters) - Wall Street fell ...</td>\n",
       "      <td>https://www.reuters.com/article/usa-stocks/us-...</td>\n",
       "    </tr>\n",
       "  </tbody>\n",
       "</table>\n",
       "</div>"
      ],
      "text/plain": [
       "              published_date company  \\\n",
       "0  2016-01-28 21:06:10+00:00      FB   \n",
       "1  2016-02-18 21:05:42+00:00     WMT   \n",
       "2  2016-03-02 22:09:26+00:00    AAPL   \n",
       "3  2016-03-02 22:09:26+00:00    MSFT   \n",
       "4  2016-03-31 20:05:35+00:00      BA   \n",
       "\n",
       "                                               title  \\\n",
       "0  US STOCKS SNAPSHOT-Wall St ends up sharply on ...   \n",
       "1  US STOCKS SNAPSHOT-S&P, Dow eke out gains afte...   \n",
       "2  US STOCKS SNAPSHOT-Wall Street ends mixed as M...   \n",
       "3  US STOCKS SNAPSHOT-Wall Street ends mixed as M...   \n",
       "4  US STOCKS SNAPSHOT-Boeing, J&J pull down Wall ...   \n",
       "\n",
       "                                                body  \\\n",
       "0  NEW YORK, Aug 16 (Reuters) - U.S. stocks rebou...   \n",
       "1  NEW YORK, Sept 6 (Reuters) - The S&P 500 and t...   \n",
       "2  Sept 19 (Reuters) - Wall Street ended mixed on...   \n",
       "3  Sept 19 (Reuters) - Wall Street ended mixed on...   \n",
       "4  NEW YORK, Oct 18 (Reuters) - Wall Street fell ...   \n",
       "\n",
       "                                                 url  \n",
       "0  https://www.reuters.com/article/usa-stocks/us-...  \n",
       "1  https://www.reuters.com/article/usa-stocks/us-...  \n",
       "2  https://www.reuters.com/article/usa-stocks/us-...  \n",
       "3  https://www.reuters.com/article/usa-stocks/us-...  \n",
       "4  https://www.reuters.com/article/usa-stocks/us-...  "
      ]
     },
     "execution_count": 63,
     "metadata": {},
     "output_type": "execute_result"
    }
   ],
   "source": [
    "df.head()"
   ]
  },
  {
   "cell_type": "markdown",
   "metadata": {},
   "source": [
    "## Export to .csv file"
   ]
  },
  {
   "cell_type": "code",
   "execution_count": 64,
   "metadata": {},
   "outputs": [],
   "source": [
    "df.to_csv('new_data_articles.csv')"
   ]
  }
 ],
 "metadata": {
  "kernelspec": {
   "display_name": "Python 3",
   "language": "python",
   "name": "python3"
  },
  "language_info": {
   "codemirror_mode": {
    "name": "ipython",
    "version": 3
   },
   "file_extension": ".py",
   "mimetype": "text/x-python",
   "name": "python",
   "nbconvert_exporter": "python",
   "pygments_lexer": "ipython3",
   "version": "3.7.9"
  }
 },
 "nbformat": 4,
 "nbformat_minor": 2
}
