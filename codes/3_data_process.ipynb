{
 "cells": [
  {
   "cell_type": "code",
   "execution_count": 1,
   "metadata": {},
   "outputs": [],
   "source": [
    "import numpy as np\n",
    "import pandas as pd"
   ]
  },
  {
   "cell_type": "code",
   "execution_count": 2,
   "metadata": {},
   "outputs": [],
   "source": [
    "df = pd.read_csv('new_data_articles_with_sentiment.csv',index_col=0)"
   ]
  },
  {
   "cell_type": "code",
   "execution_count": 3,
   "metadata": {},
   "outputs": [
    {
     "data": {
      "text/html": [
       "<div>\n",
       "<style scoped>\n",
       "    .dataframe tbody tr th:only-of-type {\n",
       "        vertical-align: middle;\n",
       "    }\n",
       "\n",
       "    .dataframe tbody tr th {\n",
       "        vertical-align: top;\n",
       "    }\n",
       "\n",
       "    .dataframe thead th {\n",
       "        text-align: right;\n",
       "    }\n",
       "</style>\n",
       "<table border=\"1\" class=\"dataframe\">\n",
       "  <thead>\n",
       "    <tr style=\"text-align: right;\">\n",
       "      <th></th>\n",
       "      <th>published_date</th>\n",
       "      <th>company</th>\n",
       "      <th>title</th>\n",
       "      <th>body</th>\n",
       "      <th>url</th>\n",
       "      <th>compound</th>\n",
       "      <th>neg</th>\n",
       "      <th>neu</th>\n",
       "      <th>pos</th>\n",
       "    </tr>\n",
       "  </thead>\n",
       "  <tbody>\n",
       "    <tr>\n",
       "      <th>0</th>\n",
       "      <td>2016-01-28 21:06:10+00:00</td>\n",
       "      <td>FB</td>\n",
       "      <td>US STOCKS SNAPSHOT-Wall St ends up sharply on ...</td>\n",
       "      <td>NEW YORK, Aug 16 (Reuters) - U.S. stocks rebou...</td>\n",
       "      <td>https://www.reuters.com/article/usa-stocks/us-...</td>\n",
       "      <td>0.5423</td>\n",
       "      <td>0.000</td>\n",
       "      <td>0.741</td>\n",
       "      <td>0.259</td>\n",
       "    </tr>\n",
       "    <tr>\n",
       "      <th>1</th>\n",
       "      <td>2016-02-18 21:05:42+00:00</td>\n",
       "      <td>WMT</td>\n",
       "      <td>US STOCKS SNAPSHOT-S&amp;P, Dow eke out gains afte...</td>\n",
       "      <td>NEW YORK, Sept 6 (Reuters) - The S&amp;P 500 and t...</td>\n",
       "      <td>https://www.reuters.com/article/usa-stocks/us-...</td>\n",
       "      <td>0.3400</td>\n",
       "      <td>0.000</td>\n",
       "      <td>0.806</td>\n",
       "      <td>0.194</td>\n",
       "    </tr>\n",
       "    <tr>\n",
       "      <th>2</th>\n",
       "      <td>2016-03-02 22:09:26+00:00</td>\n",
       "      <td>AAPL</td>\n",
       "      <td>US STOCKS SNAPSHOT-Wall Street ends mixed as M...</td>\n",
       "      <td>Sept 19 (Reuters) - Wall Street ended mixed on...</td>\n",
       "      <td>https://www.reuters.com/article/usa-stocks/us-...</td>\n",
       "      <td>0.0000</td>\n",
       "      <td>0.000</td>\n",
       "      <td>1.000</td>\n",
       "      <td>0.000</td>\n",
       "    </tr>\n",
       "    <tr>\n",
       "      <th>3</th>\n",
       "      <td>2016-03-02 22:09:26+00:00</td>\n",
       "      <td>MSFT</td>\n",
       "      <td>US STOCKS SNAPSHOT-Wall Street ends mixed as M...</td>\n",
       "      <td>Sept 19 (Reuters) - Wall Street ended mixed on...</td>\n",
       "      <td>https://www.reuters.com/article/usa-stocks/us-...</td>\n",
       "      <td>0.0000</td>\n",
       "      <td>0.000</td>\n",
       "      <td>1.000</td>\n",
       "      <td>0.000</td>\n",
       "    </tr>\n",
       "    <tr>\n",
       "      <th>4</th>\n",
       "      <td>2016-03-31 20:05:35+00:00</td>\n",
       "      <td>BA</td>\n",
       "      <td>US STOCKS SNAPSHOT-Boeing, J&amp;J pull down Wall ...</td>\n",
       "      <td>NEW YORK, Oct 18 (Reuters) - Wall Street fell ...</td>\n",
       "      <td>https://www.reuters.com/article/usa-stocks/us-...</td>\n",
       "      <td>-0.4404</td>\n",
       "      <td>0.195</td>\n",
       "      <td>0.805</td>\n",
       "      <td>0.000</td>\n",
       "    </tr>\n",
       "  </tbody>\n",
       "</table>\n",
       "</div>"
      ],
      "text/plain": [
       "              published_date company  \\\n",
       "0  2016-01-28 21:06:10+00:00      FB   \n",
       "1  2016-02-18 21:05:42+00:00     WMT   \n",
       "2  2016-03-02 22:09:26+00:00    AAPL   \n",
       "3  2016-03-02 22:09:26+00:00    MSFT   \n",
       "4  2016-03-31 20:05:35+00:00      BA   \n",
       "\n",
       "                                               title  \\\n",
       "0  US STOCKS SNAPSHOT-Wall St ends up sharply on ...   \n",
       "1  US STOCKS SNAPSHOT-S&P, Dow eke out gains afte...   \n",
       "2  US STOCKS SNAPSHOT-Wall Street ends mixed as M...   \n",
       "3  US STOCKS SNAPSHOT-Wall Street ends mixed as M...   \n",
       "4  US STOCKS SNAPSHOT-Boeing, J&J pull down Wall ...   \n",
       "\n",
       "                                                body  \\\n",
       "0  NEW YORK, Aug 16 (Reuters) - U.S. stocks rebou...   \n",
       "1  NEW YORK, Sept 6 (Reuters) - The S&P 500 and t...   \n",
       "2  Sept 19 (Reuters) - Wall Street ended mixed on...   \n",
       "3  Sept 19 (Reuters) - Wall Street ended mixed on...   \n",
       "4  NEW YORK, Oct 18 (Reuters) - Wall Street fell ...   \n",
       "\n",
       "                                                 url  compound    neg    neu  \\\n",
       "0  https://www.reuters.com/article/usa-stocks/us-...    0.5423  0.000  0.741   \n",
       "1  https://www.reuters.com/article/usa-stocks/us-...    0.3400  0.000  0.806   \n",
       "2  https://www.reuters.com/article/usa-stocks/us-...    0.0000  0.000  1.000   \n",
       "3  https://www.reuters.com/article/usa-stocks/us-...    0.0000  0.000  1.000   \n",
       "4  https://www.reuters.com/article/usa-stocks/us-...   -0.4404  0.195  0.805   \n",
       "\n",
       "     pos  \n",
       "0  0.259  \n",
       "1  0.194  \n",
       "2  0.000  \n",
       "3  0.000  \n",
       "4  0.000  "
      ]
     },
     "execution_count": 3,
     "metadata": {},
     "output_type": "execute_result"
    }
   ],
   "source": [
    "df.head()"
   ]
  },
  {
   "cell_type": "code",
   "execution_count": 4,
   "metadata": {},
   "outputs": [],
   "source": [
    "df2=df.copy()\n",
    "df2=pd.DataFrame(df2)\n",
    "n=df.shape[0]"
   ]
  },
  {
   "cell_type": "code",
   "execution_count": 5,
   "metadata": {},
   "outputs": [
    {
     "name": "stderr",
     "output_type": "stream",
     "text": [
      "C:\\Users\\YuNan\\anaconda3\\envs\\tf-gpu\\lib\\site-packages\\ipykernel_launcher.py:3: SettingWithCopyWarning: \n",
      "A value is trying to be set on a copy of a slice from a DataFrame\n",
      "\n",
      "See the caveats in the documentation: https://pandas.pydata.org/pandas-docs/stable/user_guide/indexing.html#returning-a-view-versus-a-copy\n",
      "  This is separate from the ipykernel package so we can avoid doing imports until\n"
     ]
    },
    {
     "name": "stdout",
     "output_type": "stream",
     "text": [
      "0\n",
      "10000\n",
      "20000\n"
     ]
    }
   ],
   "source": [
    "for i in range(0,n):\n",
    "    \n",
    "    df2['published_date'][i]=df2['published_date'][i][0:10]\n",
    "    if i%10000==0:\n",
    "        print(i)\n",
    "df2.to_csv('sentiment.csv')"
   ]
  },
  {
   "cell_type": "markdown",
   "metadata": {},
   "source": [
    "In[15]:"
   ]
  },
  {
   "cell_type": "code",
   "execution_count": 6,
   "metadata": {},
   "outputs": [
    {
     "data": {
      "text/plain": [
       "array(['FB', 'WMT', 'AAPL', 'MSFT', 'BA', 'JNJ', 'CSCO', 'TSLA', 'AMZN',\n",
       "       'TWTR', 'CVS', 'DIS', 'XOM', 'GS', 'T', 'CME', 'AVGO', 'QCOM',\n",
       "       'NVDA', 'WBA', 'AIG', 'BAC', 'V', 'VZ', 'GOOG', 'GOOGL', 'MAR',\n",
       "       'FDX', 'GE', 'DAL', 'LUV', 'MRK', 'AAL', 'CMCSA', 'GM', 'NKE',\n",
       "       'BIIB', 'TGT', 'MET', 'XRX', 'KR', 'SO', 'PFE', 'IBM', 'JPM',\n",
       "       'PEP', 'TMO', 'CAT', 'WFC', 'UNH', 'EBAY', 'OXY', 'SLB', 'BLK',\n",
       "       'NFLX', 'AMGN', 'TSN', 'LMT', 'COP', 'FCX', 'HPQ', 'MCD', 'KO',\n",
       "       'ABBV', 'TMUS', 'KHC', 'INTC', 'ABT', 'GILD', 'CVX', 'MA', 'LLY',\n",
       "       'CB', 'ALB', 'VLO', 'REGN', 'MPC', 'CBOE', 'UAL', 'F', 'VIAC'],\n",
       "      dtype=object)"
      ]
     },
     "execution_count": 6,
     "metadata": {},
     "output_type": "execute_result"
    }
   ],
   "source": [
    "df2['company'].unique()"
   ]
  },
  {
   "cell_type": "code",
   "execution_count": 7,
   "metadata": {},
   "outputs": [],
   "source": [
    "# grouped=df2.groupby(['company']).size()\n",
    "# print(grouped[:50])\n",
    "\n",
    "# BA=df2.groupby(['company']).filter(lambda x: x=='BA')\n",
    "# print(BA)\n"
   ]
  },
  {
   "cell_type": "code",
   "execution_count": 11,
   "metadata": {},
   "outputs": [
    {
     "data": {
      "text/plain": [
       "'FB'"
      ]
     },
     "execution_count": 11,
     "metadata": {},
     "output_type": "execute_result"
    }
   ],
   "source": [
    "df2['company'].unique()[0]"
   ]
  },
  {
   "cell_type": "code",
   "execution_count": 18,
   "metadata": {},
   "outputs": [
    {
     "name": "stdout",
     "output_type": "stream",
     "text": [
      "(1663, 9)\n",
      "(597, 9)\n",
      "(1778, 9)\n",
      "(537, 9)\n",
      "(2234, 9)\n",
      "(593, 9)\n",
      "(110, 9)\n",
      "(1464, 9)\n",
      "(1645, 9)\n",
      "(309, 9)\n",
      "(216, 9)\n",
      "(435, 9)\n",
      "(711, 9)\n",
      "(845, 9)\n",
      "(352, 9)\n",
      "(479, 9)\n",
      "(130, 9)\n",
      "(391, 9)\n",
      "(168, 9)\n",
      "(130, 9)\n",
      "(126, 9)\n",
      "(199, 9)\n",
      "(114, 9)\n",
      "(134, 9)\n",
      "(541, 9)\n",
      "(541, 9)\n",
      "(103, 9)\n",
      "(180, 9)\n",
      "(452, 9)\n",
      "(335, 9)\n",
      "(277, 9)\n",
      "(313, 9)\n",
      "(296, 9)\n",
      "(289, 9)\n",
      "(712, 9)\n",
      "(217, 9)\n",
      "(149, 9)\n",
      "(117, 9)\n",
      "(107, 9)\n",
      "(127, 9)\n",
      "(109, 9)\n",
      "(104, 9)\n",
      "(1607, 9)\n",
      "(191, 9)\n",
      "(587, 9)\n",
      "(107, 9)\n",
      "(103, 9)\n",
      "(114, 9)\n",
      "(379, 9)\n",
      "(104, 9)\n",
      "(130, 9)\n",
      "(190, 9)\n",
      "(105, 9)\n",
      "(367, 9)\n",
      "(369, 9)\n",
      "(168, 9)\n",
      "(119, 9)\n",
      "(241, 9)\n",
      "(144, 9)\n",
      "(108, 9)\n",
      "(103, 9)\n",
      "(217, 9)\n",
      "(133, 9)\n",
      "(228, 9)\n",
      "(307, 9)\n",
      "(111, 9)\n",
      "(323, 9)\n",
      "(122, 9)\n",
      "(402, 9)\n",
      "(388, 9)\n",
      "(142, 9)\n",
      "(162, 9)\n",
      "(129, 9)\n",
      "(108, 9)\n",
      "(102, 9)\n",
      "(189, 9)\n",
      "(107, 9)\n",
      "(289, 9)\n",
      "(123, 9)\n",
      "(300, 9)\n",
      "(183, 9)\n"
     ]
    }
   ],
   "source": [
    "for i in range(df2['company'].unique().shape[0]):\n",
    "    dff1 = df2[df2.company == df2['company'].unique()[i]]\n",
    "    print(dff1.shape)\n",
    "    dff1.to_csv('sentiment\\sentiment_{}.csv'.format(df2['company'].unique()[i]),index = False)"
   ]
  },
  {
   "cell_type": "code",
   "execution_count": 19,
   "metadata": {},
   "outputs": [
    {
     "name": "stdout",
     "output_type": "stream",
     "text": [
      "(2234, 9)\n"
     ]
    }
   ],
   "source": [
    "dff1=df2[(df2.company=='BA')]\n",
    "print(dff1.shape)\n",
    "# dff2=df2[(df2.source_name=='cnbc.com')]\n",
    "# print(dff2.shape)\n",
    "# dff3=df2[(df2.source_name=='fortune.com')]\n",
    "# print(dff3.shape)\n",
    "# dff4=df2[(df2.source_name=='reuters.com')]\n",
    "# print(dff4.shape)"
   ]
  },
  {
   "cell_type": "code",
   "execution_count": 20,
   "metadata": {},
   "outputs": [],
   "source": [
    "dff1 = pd.read_csv('sentiment\\sentiment_BA.csv')\n",
    "# dff2.to_csv('D://NeurIPS Workshop/data/sentiment_cnbc.csv')\n",
    "# dff3.to_csv('D://NeurIPS Workshop/data/sentiment_fortune.csv')\n",
    "# dff4.to_csv('D://NeurIPS Workshop/data/sentiment_reuters.csv')"
   ]
  },
  {
   "cell_type": "code",
   "execution_count": 21,
   "metadata": {},
   "outputs": [
    {
     "data": {
      "text/html": [
       "<div>\n",
       "<style scoped>\n",
       "    .dataframe tbody tr th:only-of-type {\n",
       "        vertical-align: middle;\n",
       "    }\n",
       "\n",
       "    .dataframe tbody tr th {\n",
       "        vertical-align: top;\n",
       "    }\n",
       "\n",
       "    .dataframe thead th {\n",
       "        text-align: right;\n",
       "    }\n",
       "</style>\n",
       "<table border=\"1\" class=\"dataframe\">\n",
       "  <thead>\n",
       "    <tr style=\"text-align: right;\">\n",
       "      <th></th>\n",
       "      <th>published_date</th>\n",
       "      <th>company</th>\n",
       "      <th>title</th>\n",
       "      <th>body</th>\n",
       "      <th>url</th>\n",
       "      <th>compound</th>\n",
       "      <th>neg</th>\n",
       "      <th>neu</th>\n",
       "      <th>pos</th>\n",
       "    </tr>\n",
       "  </thead>\n",
       "  <tbody>\n",
       "    <tr>\n",
       "      <th>0</th>\n",
       "      <td>2016-03-31</td>\n",
       "      <td>BA</td>\n",
       "      <td>US STOCKS SNAPSHOT-Boeing, J&amp;J pull down Wall ...</td>\n",
       "      <td>NEW YORK, Oct 18 (Reuters) - Wall Street fell ...</td>\n",
       "      <td>https://www.reuters.com/article/usa-stocks/us-...</td>\n",
       "      <td>-0.4404</td>\n",
       "      <td>0.195</td>\n",
       "      <td>0.805</td>\n",
       "      <td>0.0</td>\n",
       "    </tr>\n",
       "    <tr>\n",
       "      <th>1</th>\n",
       "      <td>2018-02-08</td>\n",
       "      <td>BA</td>\n",
       "      <td>AirAsia seen sticking with Airbus A330neo: source</td>\n",
       "      <td>SINGAPORE (Reuters) - AirAsia looks set to con...</td>\n",
       "      <td>https://www.reuters.com/article/us-singapore-a...</td>\n",
       "      <td>0.0000</td>\n",
       "      <td>0.000</td>\n",
       "      <td>1.000</td>\n",
       "      <td>0.0</td>\n",
       "    </tr>\n",
       "    <tr>\n",
       "      <th>2</th>\n",
       "      <td>2018-02-08</td>\n",
       "      <td>BA</td>\n",
       "      <td>AIRSHOW-AirAsia seen sticking with Airbus A330...</td>\n",
       "      <td>(Adds details)\\n\\nSINGAPORE, Feb 8 (Reuters) -...</td>\n",
       "      <td>https://www.reuters.com/article/singapore-airs...</td>\n",
       "      <td>0.0000</td>\n",
       "      <td>0.000</td>\n",
       "      <td>1.000</td>\n",
       "      <td>0.0</td>\n",
       "    </tr>\n",
       "    <tr>\n",
       "      <th>3</th>\n",
       "      <td>2018-02-08</td>\n",
       "      <td>BA</td>\n",
       "      <td>UPDATE 1-S.Korea to buy next maritime patrol a...</td>\n",
       "      <td>(Adds detail)\\n\\nSEOUL, Feb 8 (Reuters) - Sout...</td>\n",
       "      <td>https://www.reuters.com/article/southkorea-arm...</td>\n",
       "      <td>0.0000</td>\n",
       "      <td>0.000</td>\n",
       "      <td>1.000</td>\n",
       "      <td>0.0</td>\n",
       "    </tr>\n",
       "    <tr>\n",
       "      <th>4</th>\n",
       "      <td>2018-02-08</td>\n",
       "      <td>BA</td>\n",
       "      <td>IranAir CEO says no problems financing plane d...</td>\n",
       "      <td>Paris, Feb 8 (Reuters) - IranAir is not having...</td>\n",
       "      <td>https://www.reuters.com/article/iran-airplanes...</td>\n",
       "      <td>-0.5994</td>\n",
       "      <td>0.450</td>\n",
       "      <td>0.550</td>\n",
       "      <td>0.0</td>\n",
       "    </tr>\n",
       "  </tbody>\n",
       "</table>\n",
       "</div>"
      ],
      "text/plain": [
       "  published_date company                                              title  \\\n",
       "0     2016-03-31      BA  US STOCKS SNAPSHOT-Boeing, J&J pull down Wall ...   \n",
       "1     2018-02-08      BA  AirAsia seen sticking with Airbus A330neo: source   \n",
       "2     2018-02-08      BA  AIRSHOW-AirAsia seen sticking with Airbus A330...   \n",
       "3     2018-02-08      BA  UPDATE 1-S.Korea to buy next maritime patrol a...   \n",
       "4     2018-02-08      BA  IranAir CEO says no problems financing plane d...   \n",
       "\n",
       "                                                body  \\\n",
       "0  NEW YORK, Oct 18 (Reuters) - Wall Street fell ...   \n",
       "1  SINGAPORE (Reuters) - AirAsia looks set to con...   \n",
       "2  (Adds details)\\n\\nSINGAPORE, Feb 8 (Reuters) -...   \n",
       "3  (Adds detail)\\n\\nSEOUL, Feb 8 (Reuters) - Sout...   \n",
       "4  Paris, Feb 8 (Reuters) - IranAir is not having...   \n",
       "\n",
       "                                                 url  compound    neg    neu  \\\n",
       "0  https://www.reuters.com/article/usa-stocks/us-...   -0.4404  0.195  0.805   \n",
       "1  https://www.reuters.com/article/us-singapore-a...    0.0000  0.000  1.000   \n",
       "2  https://www.reuters.com/article/singapore-airs...    0.0000  0.000  1.000   \n",
       "3  https://www.reuters.com/article/southkorea-arm...    0.0000  0.000  1.000   \n",
       "4  https://www.reuters.com/article/iran-airplanes...   -0.5994  0.450  0.550   \n",
       "\n",
       "   pos  \n",
       "0  0.0  \n",
       "1  0.0  \n",
       "2  0.0  \n",
       "3  0.0  \n",
       "4  0.0  "
      ]
     },
     "execution_count": 21,
     "metadata": {},
     "output_type": "execute_result"
    }
   ],
   "source": [
    "dff1.head()"
   ]
  },
  {
   "cell_type": "code",
   "execution_count": 22,
   "metadata": {},
   "outputs": [
    {
     "data": {
      "text/plain": [
       "(628810, 9)"
      ]
     },
     "execution_count": 22,
     "metadata": {},
     "output_type": "execute_result"
    }
   ],
   "source": [
    "sp = pd.read_csv(\"C:/Users/YuNan/Downloads/stock/historical_price/historical_price/BA_2015-12-30_2021-02-21_minute.csv\")#,index_col=0)\n",
    "sp=pd.DataFrame(sp)\n",
    "sp.shape"
   ]
  },
  {
   "cell_type": "code",
   "execution_count": 23,
   "metadata": {},
   "outputs": [
    {
     "name": "stdout",
     "output_type": "stream",
     "text": [
      "(656, 4)\n"
     ]
    }
   ],
   "source": [
    "dff1g=dff1.groupby(['published_date']).agg(['mean'])\n",
    "print(dff1g.shape)\n",
    "# dff2g=dff2.groupby(['published_date']).agg(['mean'])\n",
    "# print(dff2g.shape)\n",
    "# dff3g=dff3.groupby(['published_date']).agg(['mean'])\n",
    "# print(dff3g.shape)\n",
    "# dff4g=dff4.groupby(['published_date']).agg(['mean'])\n",
    "# print(dff4g.shape)"
   ]
  },
  {
   "cell_type": "code",
   "execution_count": 22,
   "metadata": {},
   "outputs": [],
   "source": [
    "dff1g.to_csv('sentiment_BA_groupday.csv')\n",
    "# dff2g.to_csv('D://NeurIPS Workshop/data/sentiment_cnbc_groupday.csv')\n",
    "# dff3g.to_csv('D://NeurIPS Workshop/data/sentiment_fortune_groupday.csv')\n",
    "# dff4g.to_csv('D://NeurIPS Workshop/data/sentiment_reuters_groupday.csv')"
   ]
  },
  {
   "cell_type": "code",
   "execution_count": 23,
   "metadata": {},
   "outputs": [
    {
     "data": {
      "text/plain": [
       "MultiIndex([('compound', 'mean'),\n",
       "            (     'neg', 'mean'),\n",
       "            (     'neu', 'mean'),\n",
       "            (     'pos', 'mean')],\n",
       "           )"
      ]
     },
     "execution_count": 23,
     "metadata": {},
     "output_type": "execute_result"
    }
   ],
   "source": [
    "dff1g.columns"
   ]
  },
  {
   "cell_type": "code",
   "execution_count": 24,
   "metadata": {},
   "outputs": [],
   "source": [
    "d1 = pd.read_csv('sentiment_BA_groupday.csv')#,index_col=0)\n",
    "# d2 = pd.read_csv(\"D://NeurIPS Workshop/data/sentiment_cnbc_groupday1.csv\")\n",
    "# d3 = pd.read_csv(\"D://NeurIPS Workshop/data/sentiment_fortune_groupday1.csv\")\n",
    "# d4 = pd.read_csv(\"D://NeurIPS Workshop/data/sentiment_reuters_groupday1.csv\")\n",
    "# d1=pd.DataFrame(d1)\n",
    "# d1.head()"
   ]
  },
  {
   "cell_type": "code",
   "execution_count": 26,
   "metadata": {},
   "outputs": [
    {
     "name": "stdout",
     "output_type": "stream",
     "text": [
      "<class 'str'>\n",
      "<class 'str'>\n",
      "   Unnamed: 0        v        vw         o         c        h       l  \\\n",
      "0      788931    100.0  146.9000  146.9000  146.9000  146.900  146.90   \n",
      "1      788930  36605.0  147.2292  147.2200  147.1500  148.000  147.10   \n",
      "2         780   4350.0  147.0348  147.1024  147.0000  147.130  147.00   \n",
      "3         779   2313.0  146.9455  146.9200  146.9700  146.975  146.91   \n",
      "4         778   3789.0  146.9338  146.9700  146.9332  147.000  146.85   \n",
      "\n",
      "                     t     n  \n",
      "0  2015-12-30 13:37:00   1.0  \n",
      "1  2015-12-30 14:30:00  78.0  \n",
      "2  2015-12-30 14:31:00  50.0  \n",
      "3  2015-12-30 14:32:00  35.0  \n",
      "4  2015-12-30 14:33:00  32.0  \n",
      "  published_date  compound    neg       neu       pos\n",
      "0      3/31/2016 -0.440400  0.195  0.805000  0.000000\n",
      "1       2/8/2018 -0.133200  0.100  0.900000  0.000000\n",
      "2       2/9/2018  0.153100  0.000  0.882000  0.118000\n",
      "3      2/13/2018  0.357175  0.000  0.774000  0.226000\n",
      "4      2/14/2018  0.009267  0.183  0.604667  0.212333\n"
     ]
    }
   ],
   "source": [
    "print(type(sp['t'][0]))\n",
    "print(type(d1['published_date'][0]))\n",
    "print(sp.head())\n",
    "print(d1.head())"
   ]
  },
  {
   "cell_type": "code",
   "execution_count": 31,
   "metadata": {},
   "outputs": [],
   "source": [
    "sp1=sp.copy()\n",
    "m=sp.shape[0]"
   ]
  },
  {
   "cell_type": "code",
   "execution_count": 32,
   "metadata": {},
   "outputs": [
    {
     "name": "stdout",
     "output_type": "stream",
     "text": [
      "0\n",
      "1\n",
      "2\n"
     ]
    }
   ],
   "source": [
    "for i in range (0,3):\n",
    "    print(i)\n",
    "    sp1['t'][i].replace('-','/')"
   ]
  },
  {
   "cell_type": "code",
   "execution_count": 37,
   "metadata": {},
   "outputs": [
    {
     "name": "stdout",
     "output_type": "stream",
     "text": [
      "2015-12-30 13:37:00\n"
     ]
    }
   ],
   "source": [
    "print(sp1['t'][0])"
   ]
  },
  {
   "cell_type": "code",
   "execution_count": 38,
   "metadata": {},
   "outputs": [
    {
     "name": "stdout",
     "output_type": "stream",
     "text": [
      "2015-12-30 13:37:00\n",
      "3/31/2016\n"
     ]
    }
   ],
   "source": [
    "sp1['t'][0]==d1['published_date'][0]\n",
    "print(sp1['t'][0])\n",
    "print(d1['published_date'][0])"
   ]
  },
  {
   "cell_type": "code",
   "execution_count": 40,
   "metadata": {},
   "outputs": [
    {
     "name": "stdout",
     "output_type": "stream",
     "text": [
      "2016-03-31\n"
     ]
    }
   ],
   "source": [
    "import time\n",
    "t=d1['published_date'][0]\n",
    "timeStruct = time.strptime(t, \"%m/%d/%Y\") \n",
    "strTime = time.strftime(\"%Y-%m-%d\", timeStruct) \n",
    "print(strTime)"
   ]
  },
  {
   "cell_type": "code",
   "execution_count": 41,
   "metadata": {},
   "outputs": [
    {
     "name": "stderr",
     "output_type": "stream",
     "text": [
      "C:\\Users\\YuNan\\anaconda3\\envs\\tf-gpu\\lib\\site-packages\\ipykernel_launcher.py:4: SettingWithCopyWarning: \n",
      "A value is trying to be set on a copy of a slice from a DataFrame\n",
      "\n",
      "See the caveats in the documentation: https://pandas.pydata.org/pandas-docs/stable/user_guide/indexing.html#returning-a-view-versus-a-copy\n",
      "  after removing the cwd from sys.path.\n"
     ]
    },
    {
     "data": {
      "text/html": [
       "<div>\n",
       "<style scoped>\n",
       "    .dataframe tbody tr th:only-of-type {\n",
       "        vertical-align: middle;\n",
       "    }\n",
       "\n",
       "    .dataframe tbody tr th {\n",
       "        vertical-align: top;\n",
       "    }\n",
       "\n",
       "    .dataframe thead th {\n",
       "        text-align: right;\n",
       "    }\n",
       "</style>\n",
       "<table border=\"1\" class=\"dataframe\">\n",
       "  <thead>\n",
       "    <tr style=\"text-align: right;\">\n",
       "      <th></th>\n",
       "      <th>published_date</th>\n",
       "      <th>compound</th>\n",
       "      <th>neg</th>\n",
       "      <th>neu</th>\n",
       "      <th>pos</th>\n",
       "    </tr>\n",
       "  </thead>\n",
       "  <tbody>\n",
       "    <tr>\n",
       "      <th>0</th>\n",
       "      <td>2016-03-31</td>\n",
       "      <td>-0.440400</td>\n",
       "      <td>0.195</td>\n",
       "      <td>0.805000</td>\n",
       "      <td>0.000000</td>\n",
       "    </tr>\n",
       "    <tr>\n",
       "      <th>1</th>\n",
       "      <td>2018-02-08</td>\n",
       "      <td>-0.133200</td>\n",
       "      <td>0.100</td>\n",
       "      <td>0.900000</td>\n",
       "      <td>0.000000</td>\n",
       "    </tr>\n",
       "    <tr>\n",
       "      <th>2</th>\n",
       "      <td>2018-02-09</td>\n",
       "      <td>0.153100</td>\n",
       "      <td>0.000</td>\n",
       "      <td>0.882000</td>\n",
       "      <td>0.118000</td>\n",
       "    </tr>\n",
       "    <tr>\n",
       "      <th>3</th>\n",
       "      <td>2018-02-13</td>\n",
       "      <td>0.357175</td>\n",
       "      <td>0.000</td>\n",
       "      <td>0.774000</td>\n",
       "      <td>0.226000</td>\n",
       "    </tr>\n",
       "    <tr>\n",
       "      <th>4</th>\n",
       "      <td>2018-02-14</td>\n",
       "      <td>0.009267</td>\n",
       "      <td>0.183</td>\n",
       "      <td>0.604667</td>\n",
       "      <td>0.212333</td>\n",
       "    </tr>\n",
       "  </tbody>\n",
       "</table>\n",
       "</div>"
      ],
      "text/plain": [
       "  published_date  compound    neg       neu       pos\n",
       "0     2016-03-31 -0.440400  0.195  0.805000  0.000000\n",
       "1     2018-02-08 -0.133200  0.100  0.900000  0.000000\n",
       "2     2018-02-09  0.153100  0.000  0.882000  0.118000\n",
       "3     2018-02-13  0.357175  0.000  0.774000  0.226000\n",
       "4     2018-02-14  0.009267  0.183  0.604667  0.212333"
      ]
     },
     "execution_count": 41,
     "metadata": {},
     "output_type": "execute_result"
    }
   ],
   "source": [
    "for i in range(0,d1.shape[0]):\n",
    "    t=d1['published_date'][i]\n",
    "    timeStruct = time.strptime(t, \"%m/%d/%Y\") \n",
    "    d1['published_date'][i] = time.strftime(\"%Y-%m-%d\", timeStruct) \n",
    "    \n",
    "d1.head()\n",
    "    "
   ]
  },
  {
   "cell_type": "code",
   "execution_count": 42,
   "metadata": {},
   "outputs": [],
   "source": [
    "# for i in range(0,d2.shape[0]):\n",
    "#     t=d2['published_date'][i]\n",
    "#     timeStruct = time.strptime(t, \"%Y/%m/%d\") \n",
    "#     d2['published_date'][i] = time.strftime(\"%Y-%m-%d\", timeStruct) \n",
    "    \n",
    "# for i in range(0,d3.shape[0]):\n",
    "#     t=d3['published_date'][i]\n",
    "#     timeStruct = time.strptime(t, \"%Y/%m/%d\") \n",
    "#     d3['published_date'][i] = time.strftime(\"%Y-%m-%d\", timeStruct) \n",
    "    \n",
    "# for i in range(0,d4.shape[0]):\n",
    "#     t=d4['published_date'][i]\n",
    "#     timeStruct = time.strptime(t, \"%Y/%m/%d\") \n",
    "#     d4['published_date'][i] = time.strftime(\"%Y-%m-%d\", timeStruct) "
   ]
  },
  {
   "cell_type": "markdown",
   "metadata": {},
   "source": [
    "In[17]:"
   ]
  },
  {
   "cell_type": "markdown",
   "metadata": {},
   "source": [
    "In[30]:"
   ]
  },
  {
   "cell_type": "code",
   "execution_count": 43,
   "metadata": {},
   "outputs": [
    {
     "data": {
      "text/html": [
       "<div>\n",
       "<style scoped>\n",
       "    .dataframe tbody tr th:only-of-type {\n",
       "        vertical-align: middle;\n",
       "    }\n",
       "\n",
       "    .dataframe tbody tr th {\n",
       "        vertical-align: top;\n",
       "    }\n",
       "\n",
       "    .dataframe thead th {\n",
       "        text-align: right;\n",
       "    }\n",
       "</style>\n",
       "<table border=\"1\" class=\"dataframe\">\n",
       "  <thead>\n",
       "    <tr style=\"text-align: right;\">\n",
       "      <th></th>\n",
       "      <th>published_date</th>\n",
       "      <th>compound</th>\n",
       "      <th>neg</th>\n",
       "      <th>neu</th>\n",
       "      <th>pos</th>\n",
       "    </tr>\n",
       "  </thead>\n",
       "  <tbody>\n",
       "    <tr>\n",
       "      <th>0</th>\n",
       "      <td>2016-03-31</td>\n",
       "      <td>-0.440400</td>\n",
       "      <td>0.195</td>\n",
       "      <td>0.805000</td>\n",
       "      <td>0.000000</td>\n",
       "    </tr>\n",
       "    <tr>\n",
       "      <th>1</th>\n",
       "      <td>2018-02-08</td>\n",
       "      <td>-0.133200</td>\n",
       "      <td>0.100</td>\n",
       "      <td>0.900000</td>\n",
       "      <td>0.000000</td>\n",
       "    </tr>\n",
       "    <tr>\n",
       "      <th>2</th>\n",
       "      <td>2018-02-09</td>\n",
       "      <td>0.153100</td>\n",
       "      <td>0.000</td>\n",
       "      <td>0.882000</td>\n",
       "      <td>0.118000</td>\n",
       "    </tr>\n",
       "    <tr>\n",
       "      <th>3</th>\n",
       "      <td>2018-02-13</td>\n",
       "      <td>0.357175</td>\n",
       "      <td>0.000</td>\n",
       "      <td>0.774000</td>\n",
       "      <td>0.226000</td>\n",
       "    </tr>\n",
       "    <tr>\n",
       "      <th>4</th>\n",
       "      <td>2018-02-14</td>\n",
       "      <td>0.009267</td>\n",
       "      <td>0.183</td>\n",
       "      <td>0.604667</td>\n",
       "      <td>0.212333</td>\n",
       "    </tr>\n",
       "  </tbody>\n",
       "</table>\n",
       "</div>"
      ],
      "text/plain": [
       "  published_date  compound    neg       neu       pos\n",
       "0     2016-03-31 -0.440400  0.195  0.805000  0.000000\n",
       "1     2018-02-08 -0.133200  0.100  0.900000  0.000000\n",
       "2     2018-02-09  0.153100  0.000  0.882000  0.118000\n",
       "3     2018-02-13  0.357175  0.000  0.774000  0.226000\n",
       "4     2018-02-14  0.009267  0.183  0.604667  0.212333"
      ]
     },
     "execution_count": 43,
     "metadata": {},
     "output_type": "execute_result"
    }
   ],
   "source": [
    "d1.head()"
   ]
  },
  {
   "cell_type": "code",
   "execution_count": 60,
   "metadata": {},
   "outputs": [],
   "source": [
    "sp1['date'] = sp1['t'].apply(lambda x: x.split(' '))\n",
    "sp1['Date'] = sp1['date'].apply(lambda x: x[0])\n",
    "sp1['time'] = sp1['date'].apply(lambda x: x[1])"
   ]
  },
  {
   "cell_type": "code",
   "execution_count": 70,
   "metadata": {},
   "outputs": [
    {
     "name": "stdout",
     "output_type": "stream",
     "text": [
      "(1364, 12)\n"
     ]
    },
    {
     "data": {
      "text/plain": [
       "<bound method NDFrame.head of         Unnamed: 0        v        vw         o         c         h         l  \\\n",
       "391            391    300.0  146.4000  146.4000  146.4000  146.4000  146.4000   \n",
       "782         788149  22618.0  144.8237  144.5900  144.5900  144.5900  144.5900   \n",
       "1186        787745    100.0  140.9900  140.9900  140.9900  140.9900  140.9900   \n",
       "1588        787343   7257.0  140.8824  140.8300  140.8300  141.0700  140.8300   \n",
       "1994        786937    682.0  138.5219  138.5200  138.5200  138.5200  138.5200   \n",
       "...            ...      ...       ...       ...       ...       ...       ...   \n",
       "627690        1902    100.0  210.9999  210.9999  210.9999  210.9999  210.9999   \n",
       "627708        1884    498.0  211.0780  211.0700  211.0900  211.0900  211.0700   \n",
       "628257        1335    100.0  216.5001  216.5001  216.5001  216.5001  216.5001   \n",
       "628793         799    208.0  215.7493  215.7500  215.7500  215.7500  215.7500   \n",
       "628809         783    916.0  216.0432  216.1000  216.0000  216.1000  216.0000   \n",
       "\n",
       "                          t     n                    date        Date  \\\n",
       "391     2015-12-30 23:36:00   1.0  [2015-12-30, 23:36:00]  2015-12-30   \n",
       "782     2015-12-31 21:00:00  15.0  [2015-12-31, 21:00:00]  2015-12-31   \n",
       "1186    2016-01-04 23:53:00   1.0  [2016-01-04, 23:53:00]  2016-01-04   \n",
       "1588    2016-01-05 21:07:00   2.0  [2016-01-05, 21:07:00]  2016-01-05   \n",
       "1994    2016-01-06 21:15:00   7.0  [2016-01-06, 21:15:00]  2016-01-06   \n",
       "...                     ...   ...                     ...         ...   \n",
       "627690  2021-02-12 23:59:00   1.0  [2021-02-12, 23:59:00]  2021-02-12   \n",
       "627708  2021-02-13 00:59:00   6.0  [2021-02-13, 00:59:00]  2021-02-13   \n",
       "628257  2021-02-16 23:59:00   1.0  [2021-02-16, 23:59:00]  2021-02-16   \n",
       "628793  2021-02-17 23:57:00   4.0  [2021-02-17, 23:57:00]  2021-02-17   \n",
       "628809  2021-02-18 00:59:00   8.0  [2021-02-18, 00:59:00]  2021-02-18   \n",
       "\n",
       "            time  \n",
       "391     23:36:00  \n",
       "782     21:00:00  \n",
       "1186    23:53:00  \n",
       "1588    21:07:00  \n",
       "1994    21:15:00  \n",
       "...          ...  \n",
       "627690  23:59:00  \n",
       "627708  00:59:00  \n",
       "628257  23:59:00  \n",
       "628793  23:57:00  \n",
       "628809  00:59:00  \n",
       "\n",
       "[1364 rows x 12 columns]>"
      ]
     },
     "execution_count": 70,
     "metadata": {},
     "output_type": "execute_result"
    }
   ],
   "source": [
    "sp1.drop_duplicates(subset=['Date'], keep='last', inplace = True)\n",
    "print(sp1.shape)\n",
    "sp1.head"
   ]
  },
  {
   "cell_type": "code",
   "execution_count": 73,
   "metadata": {},
   "outputs": [
    {
     "data": {
      "text/html": [
       "<div>\n",
       "<style scoped>\n",
       "    .dataframe tbody tr th:only-of-type {\n",
       "        vertical-align: middle;\n",
       "    }\n",
       "\n",
       "    .dataframe tbody tr th {\n",
       "        vertical-align: top;\n",
       "    }\n",
       "\n",
       "    .dataframe thead th {\n",
       "        text-align: right;\n",
       "    }\n",
       "</style>\n",
       "<table border=\"1\" class=\"dataframe\">\n",
       "  <thead>\n",
       "    <tr style=\"text-align: right;\">\n",
       "      <th></th>\n",
       "      <th>index</th>\n",
       "      <th>Unnamed: 0</th>\n",
       "      <th>v</th>\n",
       "      <th>vw</th>\n",
       "      <th>o</th>\n",
       "      <th>c</th>\n",
       "      <th>h</th>\n",
       "      <th>l</th>\n",
       "      <th>t</th>\n",
       "      <th>n</th>\n",
       "      <th>date</th>\n",
       "      <th>Date</th>\n",
       "      <th>time</th>\n",
       "    </tr>\n",
       "  </thead>\n",
       "  <tbody>\n",
       "    <tr>\n",
       "      <th>0</th>\n",
       "      <td>391</td>\n",
       "      <td>391</td>\n",
       "      <td>300.0</td>\n",
       "      <td>146.4000</td>\n",
       "      <td>146.4000</td>\n",
       "      <td>146.4000</td>\n",
       "      <td>146.4000</td>\n",
       "      <td>146.4000</td>\n",
       "      <td>2015-12-30 23:36:00</td>\n",
       "      <td>1.0</td>\n",
       "      <td>[2015-12-30, 23:36:00]</td>\n",
       "      <td>2015-12-30</td>\n",
       "      <td>23:36:00</td>\n",
       "    </tr>\n",
       "    <tr>\n",
       "      <th>1</th>\n",
       "      <td>782</td>\n",
       "      <td>788149</td>\n",
       "      <td>22618.0</td>\n",
       "      <td>144.8237</td>\n",
       "      <td>144.5900</td>\n",
       "      <td>144.5900</td>\n",
       "      <td>144.5900</td>\n",
       "      <td>144.5900</td>\n",
       "      <td>2015-12-31 21:00:00</td>\n",
       "      <td>15.0</td>\n",
       "      <td>[2015-12-31, 21:00:00]</td>\n",
       "      <td>2015-12-31</td>\n",
       "      <td>21:00:00</td>\n",
       "    </tr>\n",
       "    <tr>\n",
       "      <th>2</th>\n",
       "      <td>1186</td>\n",
       "      <td>787745</td>\n",
       "      <td>100.0</td>\n",
       "      <td>140.9900</td>\n",
       "      <td>140.9900</td>\n",
       "      <td>140.9900</td>\n",
       "      <td>140.9900</td>\n",
       "      <td>140.9900</td>\n",
       "      <td>2016-01-04 23:53:00</td>\n",
       "      <td>1.0</td>\n",
       "      <td>[2016-01-04, 23:53:00]</td>\n",
       "      <td>2016-01-04</td>\n",
       "      <td>23:53:00</td>\n",
       "    </tr>\n",
       "    <tr>\n",
       "      <th>3</th>\n",
       "      <td>1588</td>\n",
       "      <td>787343</td>\n",
       "      <td>7257.0</td>\n",
       "      <td>140.8824</td>\n",
       "      <td>140.8300</td>\n",
       "      <td>140.8300</td>\n",
       "      <td>141.0700</td>\n",
       "      <td>140.8300</td>\n",
       "      <td>2016-01-05 21:07:00</td>\n",
       "      <td>2.0</td>\n",
       "      <td>[2016-01-05, 21:07:00]</td>\n",
       "      <td>2016-01-05</td>\n",
       "      <td>21:07:00</td>\n",
       "    </tr>\n",
       "    <tr>\n",
       "      <th>4</th>\n",
       "      <td>1994</td>\n",
       "      <td>786937</td>\n",
       "      <td>682.0</td>\n",
       "      <td>138.5219</td>\n",
       "      <td>138.5200</td>\n",
       "      <td>138.5200</td>\n",
       "      <td>138.5200</td>\n",
       "      <td>138.5200</td>\n",
       "      <td>2016-01-06 21:15:00</td>\n",
       "      <td>7.0</td>\n",
       "      <td>[2016-01-06, 21:15:00]</td>\n",
       "      <td>2016-01-06</td>\n",
       "      <td>21:15:00</td>\n",
       "    </tr>\n",
       "    <tr>\n",
       "      <th>...</th>\n",
       "      <td>...</td>\n",
       "      <td>...</td>\n",
       "      <td>...</td>\n",
       "      <td>...</td>\n",
       "      <td>...</td>\n",
       "      <td>...</td>\n",
       "      <td>...</td>\n",
       "      <td>...</td>\n",
       "      <td>...</td>\n",
       "      <td>...</td>\n",
       "      <td>...</td>\n",
       "      <td>...</td>\n",
       "      <td>...</td>\n",
       "    </tr>\n",
       "    <tr>\n",
       "      <th>1359</th>\n",
       "      <td>627690</td>\n",
       "      <td>1902</td>\n",
       "      <td>100.0</td>\n",
       "      <td>210.9999</td>\n",
       "      <td>210.9999</td>\n",
       "      <td>210.9999</td>\n",
       "      <td>210.9999</td>\n",
       "      <td>210.9999</td>\n",
       "      <td>2021-02-12 23:59:00</td>\n",
       "      <td>1.0</td>\n",
       "      <td>[2021-02-12, 23:59:00]</td>\n",
       "      <td>2021-02-12</td>\n",
       "      <td>23:59:00</td>\n",
       "    </tr>\n",
       "    <tr>\n",
       "      <th>1360</th>\n",
       "      <td>627708</td>\n",
       "      <td>1884</td>\n",
       "      <td>498.0</td>\n",
       "      <td>211.0780</td>\n",
       "      <td>211.0700</td>\n",
       "      <td>211.0900</td>\n",
       "      <td>211.0900</td>\n",
       "      <td>211.0700</td>\n",
       "      <td>2021-02-13 00:59:00</td>\n",
       "      <td>6.0</td>\n",
       "      <td>[2021-02-13, 00:59:00]</td>\n",
       "      <td>2021-02-13</td>\n",
       "      <td>00:59:00</td>\n",
       "    </tr>\n",
       "    <tr>\n",
       "      <th>1361</th>\n",
       "      <td>628257</td>\n",
       "      <td>1335</td>\n",
       "      <td>100.0</td>\n",
       "      <td>216.5001</td>\n",
       "      <td>216.5001</td>\n",
       "      <td>216.5001</td>\n",
       "      <td>216.5001</td>\n",
       "      <td>216.5001</td>\n",
       "      <td>2021-02-16 23:59:00</td>\n",
       "      <td>1.0</td>\n",
       "      <td>[2021-02-16, 23:59:00]</td>\n",
       "      <td>2021-02-16</td>\n",
       "      <td>23:59:00</td>\n",
       "    </tr>\n",
       "    <tr>\n",
       "      <th>1362</th>\n",
       "      <td>628793</td>\n",
       "      <td>799</td>\n",
       "      <td>208.0</td>\n",
       "      <td>215.7493</td>\n",
       "      <td>215.7500</td>\n",
       "      <td>215.7500</td>\n",
       "      <td>215.7500</td>\n",
       "      <td>215.7500</td>\n",
       "      <td>2021-02-17 23:57:00</td>\n",
       "      <td>4.0</td>\n",
       "      <td>[2021-02-17, 23:57:00]</td>\n",
       "      <td>2021-02-17</td>\n",
       "      <td>23:57:00</td>\n",
       "    </tr>\n",
       "    <tr>\n",
       "      <th>1363</th>\n",
       "      <td>628809</td>\n",
       "      <td>783</td>\n",
       "      <td>916.0</td>\n",
       "      <td>216.0432</td>\n",
       "      <td>216.1000</td>\n",
       "      <td>216.0000</td>\n",
       "      <td>216.1000</td>\n",
       "      <td>216.0000</td>\n",
       "      <td>2021-02-18 00:59:00</td>\n",
       "      <td>8.0</td>\n",
       "      <td>[2021-02-18, 00:59:00]</td>\n",
       "      <td>2021-02-18</td>\n",
       "      <td>00:59:00</td>\n",
       "    </tr>\n",
       "  </tbody>\n",
       "</table>\n",
       "<p>1364 rows × 13 columns</p>\n",
       "</div>"
      ],
      "text/plain": [
       "       index  Unnamed: 0        v        vw         o         c         h  \\\n",
       "0        391         391    300.0  146.4000  146.4000  146.4000  146.4000   \n",
       "1        782      788149  22618.0  144.8237  144.5900  144.5900  144.5900   \n",
       "2       1186      787745    100.0  140.9900  140.9900  140.9900  140.9900   \n",
       "3       1588      787343   7257.0  140.8824  140.8300  140.8300  141.0700   \n",
       "4       1994      786937    682.0  138.5219  138.5200  138.5200  138.5200   \n",
       "...      ...         ...      ...       ...       ...       ...       ...   \n",
       "1359  627690        1902    100.0  210.9999  210.9999  210.9999  210.9999   \n",
       "1360  627708        1884    498.0  211.0780  211.0700  211.0900  211.0900   \n",
       "1361  628257        1335    100.0  216.5001  216.5001  216.5001  216.5001   \n",
       "1362  628793         799    208.0  215.7493  215.7500  215.7500  215.7500   \n",
       "1363  628809         783    916.0  216.0432  216.1000  216.0000  216.1000   \n",
       "\n",
       "             l                    t     n                    date        Date  \\\n",
       "0     146.4000  2015-12-30 23:36:00   1.0  [2015-12-30, 23:36:00]  2015-12-30   \n",
       "1     144.5900  2015-12-31 21:00:00  15.0  [2015-12-31, 21:00:00]  2015-12-31   \n",
       "2     140.9900  2016-01-04 23:53:00   1.0  [2016-01-04, 23:53:00]  2016-01-04   \n",
       "3     140.8300  2016-01-05 21:07:00   2.0  [2016-01-05, 21:07:00]  2016-01-05   \n",
       "4     138.5200  2016-01-06 21:15:00   7.0  [2016-01-06, 21:15:00]  2016-01-06   \n",
       "...        ...                  ...   ...                     ...         ...   \n",
       "1359  210.9999  2021-02-12 23:59:00   1.0  [2021-02-12, 23:59:00]  2021-02-12   \n",
       "1360  211.0700  2021-02-13 00:59:00   6.0  [2021-02-13, 00:59:00]  2021-02-13   \n",
       "1361  216.5001  2021-02-16 23:59:00   1.0  [2021-02-16, 23:59:00]  2021-02-16   \n",
       "1362  215.7500  2021-02-17 23:57:00   4.0  [2021-02-17, 23:57:00]  2021-02-17   \n",
       "1363  216.0000  2021-02-18 00:59:00   8.0  [2021-02-18, 00:59:00]  2021-02-18   \n",
       "\n",
       "          time  \n",
       "0     23:36:00  \n",
       "1     21:00:00  \n",
       "2     23:53:00  \n",
       "3     21:07:00  \n",
       "4     21:15:00  \n",
       "...        ...  \n",
       "1359  23:59:00  \n",
       "1360  00:59:00  \n",
       "1361  23:59:00  \n",
       "1362  23:57:00  \n",
       "1363  00:59:00  \n",
       "\n",
       "[1364 rows x 13 columns]"
      ]
     },
     "execution_count": 73,
     "metadata": {},
     "output_type": "execute_result"
    }
   ],
   "source": [
    "sp1.reset_index(inplace = True)\n",
    "sp1"
   ]
  },
  {
   "cell_type": "code",
   "execution_count": 74,
   "metadata": {},
   "outputs": [],
   "source": [
    "date_union_1=pd.DataFrame(columns=('idx','date','mean_compound','comp_flag'))\n",
    "sp_len=sp1.shape[0]\n",
    "d_len=d1.shape[0]\n",
    "d=d1.copy()\n",
    "for i in range(0,sp_len):\n",
    "    idx=i\n",
    "    date=sp1['Date'][i]\n",
    "    j=0\n",
    "    t=0\n",
    "    while j<d_len:\n",
    "        if sp1['Date'][i]==d['published_date'][j]:\n",
    "            mean_compound=d['compound'][j]\n",
    "            comp_flag=1\n",
    "            t=1\n",
    "            break\n",
    "        j=j+1\n",
    "    if t==0:\n",
    "        mean_compound=0\n",
    "        comp_flag=0\n",
    "    \n",
    "    date_union_1=date_union_1.append(pd.DataFrame({'idx':[idx],\n",
    "                                                  'date':[date],\n",
    "                                                  'mean_compound':[mean_compound],\n",
    "                                                  'comp_flag':[comp_flag]\n",
    "        \n",
    "    }),ignore_index=True)"
   ]
  },
  {
   "cell_type": "code",
   "execution_count": 77,
   "metadata": {},
   "outputs": [
    {
     "data": {
      "text/plain": [
       "(1364, 4)"
      ]
     },
     "execution_count": 77,
     "metadata": {},
     "output_type": "execute_result"
    }
   ],
   "source": [
    "date_union_1.shape"
   ]
  },
  {
   "cell_type": "code",
   "execution_count": 79,
   "metadata": {},
   "outputs": [
    {
     "data": {
      "text/html": [
       "<div>\n",
       "<style scoped>\n",
       "    .dataframe tbody tr th:only-of-type {\n",
       "        vertical-align: middle;\n",
       "    }\n",
       "\n",
       "    .dataframe tbody tr th {\n",
       "        vertical-align: top;\n",
       "    }\n",
       "\n",
       "    .dataframe thead th {\n",
       "        text-align: right;\n",
       "    }\n",
       "</style>\n",
       "<table border=\"1\" class=\"dataframe\">\n",
       "  <thead>\n",
       "    <tr style=\"text-align: right;\">\n",
       "      <th></th>\n",
       "      <th>idx</th>\n",
       "      <th>date</th>\n",
       "      <th>mean_compound</th>\n",
       "      <th>comp_flag</th>\n",
       "    </tr>\n",
       "  </thead>\n",
       "  <tbody>\n",
       "    <tr>\n",
       "      <th>600</th>\n",
       "      <td>600</td>\n",
       "      <td>2018-04-19</td>\n",
       "      <td>-0.1027</td>\n",
       "      <td>1</td>\n",
       "    </tr>\n",
       "    <tr>\n",
       "      <th>601</th>\n",
       "      <td>601</td>\n",
       "      <td>2018-04-20</td>\n",
       "      <td>0</td>\n",
       "      <td>1</td>\n",
       "    </tr>\n",
       "    <tr>\n",
       "      <th>602</th>\n",
       "      <td>602</td>\n",
       "      <td>2018-04-23</td>\n",
       "      <td>0</td>\n",
       "      <td>1</td>\n",
       "    </tr>\n",
       "    <tr>\n",
       "      <th>603</th>\n",
       "      <td>603</td>\n",
       "      <td>2018-04-24</td>\n",
       "      <td>0.134867</td>\n",
       "      <td>1</td>\n",
       "    </tr>\n",
       "    <tr>\n",
       "      <th>604</th>\n",
       "      <td>604</td>\n",
       "      <td>2018-04-25</td>\n",
       "      <td>0.0451909</td>\n",
       "      <td>1</td>\n",
       "    </tr>\n",
       "    <tr>\n",
       "      <th>...</th>\n",
       "      <td>...</td>\n",
       "      <td>...</td>\n",
       "      <td>...</td>\n",
       "      <td>...</td>\n",
       "    </tr>\n",
       "    <tr>\n",
       "      <th>695</th>\n",
       "      <td>695</td>\n",
       "      <td>2018-09-04</td>\n",
       "      <td>0</td>\n",
       "      <td>0</td>\n",
       "    </tr>\n",
       "    <tr>\n",
       "      <th>696</th>\n",
       "      <td>696</td>\n",
       "      <td>2018-09-05</td>\n",
       "      <td>0</td>\n",
       "      <td>1</td>\n",
       "    </tr>\n",
       "    <tr>\n",
       "      <th>697</th>\n",
       "      <td>697</td>\n",
       "      <td>2018-09-06</td>\n",
       "      <td>0.128</td>\n",
       "      <td>1</td>\n",
       "    </tr>\n",
       "    <tr>\n",
       "      <th>698</th>\n",
       "      <td>698</td>\n",
       "      <td>2018-09-07</td>\n",
       "      <td>0</td>\n",
       "      <td>0</td>\n",
       "    </tr>\n",
       "    <tr>\n",
       "      <th>699</th>\n",
       "      <td>699</td>\n",
       "      <td>2018-09-10</td>\n",
       "      <td>0.31845</td>\n",
       "      <td>1</td>\n",
       "    </tr>\n",
       "  </tbody>\n",
       "</table>\n",
       "<p>100 rows × 4 columns</p>\n",
       "</div>"
      ],
      "text/plain": [
       "     idx        date mean_compound comp_flag\n",
       "600  600  2018-04-19       -0.1027         1\n",
       "601  601  2018-04-20             0         1\n",
       "602  602  2018-04-23             0         1\n",
       "603  603  2018-04-24      0.134867         1\n",
       "604  604  2018-04-25     0.0451909         1\n",
       "..   ...         ...           ...       ...\n",
       "695  695  2018-09-04             0         0\n",
       "696  696  2018-09-05             0         1\n",
       "697  697  2018-09-06         0.128         1\n",
       "698  698  2018-09-07             0         0\n",
       "699  699  2018-09-10       0.31845         1\n",
       "\n",
       "[100 rows x 4 columns]"
      ]
     },
     "execution_count": 79,
     "metadata": {},
     "output_type": "execute_result"
    }
   ],
   "source": [
    "date_union_1[600:700]"
   ]
  },
  {
   "cell_type": "code",
   "execution_count": 80,
   "metadata": {},
   "outputs": [],
   "source": [
    "date_union_1.to_csv('new_date_union_1.csv')"
   ]
  }
 ],
 "metadata": {
  "kernelspec": {
   "display_name": "Python 3",
   "language": "python",
   "name": "python3"
  },
  "language_info": {
   "codemirror_mode": {
    "name": "ipython",
    "version": 3
   },
   "file_extension": ".py",
   "mimetype": "text/x-python",
   "name": "python",
   "nbconvert_exporter": "python",
   "pygments_lexer": "ipython3",
   "version": "3.7.9"
  }
 },
 "nbformat": 4,
 "nbformat_minor": 2
}
